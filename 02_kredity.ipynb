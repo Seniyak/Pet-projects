{
 "cells": [
  {
   "cell_type": "markdown",
   "id": "235c2a7f",
   "metadata": {},
   "source": [
    "# КОММЕНТАРИЙ РЕВЬЮВЕРА\n",
    "Привет Ксения!)\n",
    "\n",
    "Меня зовут Сибирев Владислав, я осуществлял проверку проекта. Может перейдем сразу на <b>ты</b>? Если это неприемлемо, то обязательно дай знать)\n",
    "\n",
    "Далее по ходу работы ты сможешь встретить мои комментарии, они будут отмечены разными цветами:\n",
    "\n",
    "<div class=\"alert alert-block alert-success\">\n",
    " ✔️ Похвала и возможности развития\n",
    "</div>\n",
    "<div class=\"alert alert-block alert-warning\">\n",
    "⚠️ Некритичные замечания, но стоит обратить внимание\n",
    "</div>\n",
    "<div class=\"alert alert-block alert-danger\">\n",
    "❌ Грубая ошибка, необходимо исправить\n",
    "</div>\n",
    "\n",
    "\n",
    "Заранее прошу не удалять мои комментарии, это важно. Если у тебя возникнут вопросы, обозначь их, я с радостью тебе помогу!)\n",
    "\n",
    "Как вариант, можешь обозначить их так:\n",
    "<div class=\"alert alert-block alert-info\">\n",
    " Комментарий студента \n",
    "            </div>"
   ]
  },
  {
   "cell_type": "markdown",
   "id": "386f2ae7",
   "metadata": {
    "deletable": false,
    "editable": false,
    "id": "386f2ae7"
   },
   "source": [
    "# Исследование надежности заемщиков\n"
   ]
  },
  {
   "cell_type": "markdown",
   "id": "ffe86f65",
   "metadata": {
    "deletable": false,
    "editable": false,
    "id": "ffe86f65"
   },
   "source": [
    "Во второй части проекта вы выполните шаги 3 и 4. Их вручную проверит ревьюер.\n",
    "Чтобы вам не пришлось писать код заново для шагов 1 и 2, мы добавили авторские решения в ячейки с кодом. \n",
    "\n"
   ]
  },
  {
   "cell_type": "markdown",
   "id": "76d0501b",
   "metadata": {},
   "source": [
    "<div class=\"alert alert-block alert-success\">\n",
    "<b>Комментарий ревьюера:</b> \n",
    "\n",
    "✔️ Так как первая часть является автоматической, то я просто буду в ней давать рекомендации, которые ты можешь использовать в дальнейшем))<br>\n",
    "P.S. Любой проект нужно начинать с описания)) \n",
    "  </div>"
   ]
  },
  {
   "cell_type": "markdown",
   "id": "26613308",
   "metadata": {
    "deletable": false,
    "editable": false,
    "id": "26613308"
   },
   "source": [
    "## Откройте таблицу и изучите общую информацию о данных"
   ]
  },
  {
   "cell_type": "markdown",
   "id": "3c9f838e",
   "metadata": {
    "deletable": false,
    "editable": false,
    "id": "3c9f838e"
   },
   "source": [
    "**Задание 1. Импортируйте библиотеку pandas. Считайте данные из csv-файла в датафрейм и сохраните в переменную `data`. Путь к файлу:**\n",
    "\n",
    "`/datasets/data.csv`"
   ]
  },
  {
   "cell_type": "code",
   "execution_count": 1,
   "id": "77a68a90",
   "metadata": {
    "deletable": false,
    "id": "77a68a90"
   },
   "outputs": [],
   "source": [
    "import pandas as pd\n",
    "\n",
    "try:\n",
    "    data = pd.read_csv('/datasets/data.csv')\n",
    "except:\n",
    "    data = pd.read_csv('https://code.s3.yandex.net/datasets/data.csv')"
   ]
  },
  {
   "cell_type": "markdown",
   "id": "ec36d33c",
   "metadata": {},
   "source": [
    "<div class=\"alert alert-block alert-success\">\n",
    "<b>Комментарий ревьюера:</b> \n",
    "\n",
    "✔️ Молодец, что используешь конструкцию __try и except__<br>\n",
    "P.S. Для следующих проектов нужно импортировать библиотеки в отдельной ячейке) Это позволяет быстро сориентироваться, что нужно для запуска проекта, если кто-то будет запускать его в другом окружении.\n",
    "  </div>"
   ]
  },
  {
   "cell_type": "markdown",
   "id": "45365635",
   "metadata": {
    "deletable": false,
    "editable": false,
    "id": "45365635"
   },
   "source": [
    "**Задание 2. Выведите первые 20 строчек датафрейма `data` на экран.**"
   ]
  },
  {
   "cell_type": "code",
   "execution_count": 2,
   "id": "b0451a9a",
   "metadata": {
    "deletable": false,
    "id": "b0451a9a",
    "outputId": "1a8f3ef2-d323-4ec2-ddf7-89670b5944c4"
   },
   "outputs": [
    {
     "data": {
      "text/html": [
       "<div>\n",
       "<style scoped>\n",
       "    .dataframe tbody tr th:only-of-type {\n",
       "        vertical-align: middle;\n",
       "    }\n",
       "\n",
       "    .dataframe tbody tr th {\n",
       "        vertical-align: top;\n",
       "    }\n",
       "\n",
       "    .dataframe thead th {\n",
       "        text-align: right;\n",
       "    }\n",
       "</style>\n",
       "<table border=\"1\" class=\"dataframe\">\n",
       "  <thead>\n",
       "    <tr style=\"text-align: right;\">\n",
       "      <th></th>\n",
       "      <th>children</th>\n",
       "      <th>days_employed</th>\n",
       "      <th>dob_years</th>\n",
       "      <th>education</th>\n",
       "      <th>education_id</th>\n",
       "      <th>family_status</th>\n",
       "      <th>family_status_id</th>\n",
       "      <th>gender</th>\n",
       "      <th>income_type</th>\n",
       "      <th>debt</th>\n",
       "      <th>total_income</th>\n",
       "      <th>purpose</th>\n",
       "    </tr>\n",
       "  </thead>\n",
       "  <tbody>\n",
       "    <tr>\n",
       "      <th>0</th>\n",
       "      <td>1</td>\n",
       "      <td>-8437.673028</td>\n",
       "      <td>42</td>\n",
       "      <td>высшее</td>\n",
       "      <td>0</td>\n",
       "      <td>женат / замужем</td>\n",
       "      <td>0</td>\n",
       "      <td>F</td>\n",
       "      <td>сотрудник</td>\n",
       "      <td>0</td>\n",
       "      <td>253875.639453</td>\n",
       "      <td>покупка жилья</td>\n",
       "    </tr>\n",
       "    <tr>\n",
       "      <th>1</th>\n",
       "      <td>1</td>\n",
       "      <td>-4024.803754</td>\n",
       "      <td>36</td>\n",
       "      <td>среднее</td>\n",
       "      <td>1</td>\n",
       "      <td>женат / замужем</td>\n",
       "      <td>0</td>\n",
       "      <td>F</td>\n",
       "      <td>сотрудник</td>\n",
       "      <td>0</td>\n",
       "      <td>112080.014102</td>\n",
       "      <td>приобретение автомобиля</td>\n",
       "    </tr>\n",
       "    <tr>\n",
       "      <th>2</th>\n",
       "      <td>0</td>\n",
       "      <td>-5623.422610</td>\n",
       "      <td>33</td>\n",
       "      <td>Среднее</td>\n",
       "      <td>1</td>\n",
       "      <td>женат / замужем</td>\n",
       "      <td>0</td>\n",
       "      <td>M</td>\n",
       "      <td>сотрудник</td>\n",
       "      <td>0</td>\n",
       "      <td>145885.952297</td>\n",
       "      <td>покупка жилья</td>\n",
       "    </tr>\n",
       "    <tr>\n",
       "      <th>3</th>\n",
       "      <td>3</td>\n",
       "      <td>-4124.747207</td>\n",
       "      <td>32</td>\n",
       "      <td>среднее</td>\n",
       "      <td>1</td>\n",
       "      <td>женат / замужем</td>\n",
       "      <td>0</td>\n",
       "      <td>M</td>\n",
       "      <td>сотрудник</td>\n",
       "      <td>0</td>\n",
       "      <td>267628.550329</td>\n",
       "      <td>дополнительное образование</td>\n",
       "    </tr>\n",
       "    <tr>\n",
       "      <th>4</th>\n",
       "      <td>0</td>\n",
       "      <td>340266.072047</td>\n",
       "      <td>53</td>\n",
       "      <td>среднее</td>\n",
       "      <td>1</td>\n",
       "      <td>гражданский брак</td>\n",
       "      <td>1</td>\n",
       "      <td>F</td>\n",
       "      <td>пенсионер</td>\n",
       "      <td>0</td>\n",
       "      <td>158616.077870</td>\n",
       "      <td>сыграть свадьбу</td>\n",
       "    </tr>\n",
       "    <tr>\n",
       "      <th>5</th>\n",
       "      <td>0</td>\n",
       "      <td>-926.185831</td>\n",
       "      <td>27</td>\n",
       "      <td>высшее</td>\n",
       "      <td>0</td>\n",
       "      <td>гражданский брак</td>\n",
       "      <td>1</td>\n",
       "      <td>M</td>\n",
       "      <td>компаньон</td>\n",
       "      <td>0</td>\n",
       "      <td>255763.565419</td>\n",
       "      <td>покупка жилья</td>\n",
       "    </tr>\n",
       "    <tr>\n",
       "      <th>6</th>\n",
       "      <td>0</td>\n",
       "      <td>-2879.202052</td>\n",
       "      <td>43</td>\n",
       "      <td>высшее</td>\n",
       "      <td>0</td>\n",
       "      <td>женат / замужем</td>\n",
       "      <td>0</td>\n",
       "      <td>F</td>\n",
       "      <td>компаньон</td>\n",
       "      <td>0</td>\n",
       "      <td>240525.971920</td>\n",
       "      <td>операции с жильем</td>\n",
       "    </tr>\n",
       "    <tr>\n",
       "      <th>7</th>\n",
       "      <td>0</td>\n",
       "      <td>-152.779569</td>\n",
       "      <td>50</td>\n",
       "      <td>СРЕДНЕЕ</td>\n",
       "      <td>1</td>\n",
       "      <td>женат / замужем</td>\n",
       "      <td>0</td>\n",
       "      <td>M</td>\n",
       "      <td>сотрудник</td>\n",
       "      <td>0</td>\n",
       "      <td>135823.934197</td>\n",
       "      <td>образование</td>\n",
       "    </tr>\n",
       "    <tr>\n",
       "      <th>8</th>\n",
       "      <td>2</td>\n",
       "      <td>-6929.865299</td>\n",
       "      <td>35</td>\n",
       "      <td>ВЫСШЕЕ</td>\n",
       "      <td>0</td>\n",
       "      <td>гражданский брак</td>\n",
       "      <td>1</td>\n",
       "      <td>F</td>\n",
       "      <td>сотрудник</td>\n",
       "      <td>0</td>\n",
       "      <td>95856.832424</td>\n",
       "      <td>на проведение свадьбы</td>\n",
       "    </tr>\n",
       "    <tr>\n",
       "      <th>9</th>\n",
       "      <td>0</td>\n",
       "      <td>-2188.756445</td>\n",
       "      <td>41</td>\n",
       "      <td>среднее</td>\n",
       "      <td>1</td>\n",
       "      <td>женат / замужем</td>\n",
       "      <td>0</td>\n",
       "      <td>M</td>\n",
       "      <td>сотрудник</td>\n",
       "      <td>0</td>\n",
       "      <td>144425.938277</td>\n",
       "      <td>покупка жилья для семьи</td>\n",
       "    </tr>\n",
       "    <tr>\n",
       "      <th>10</th>\n",
       "      <td>2</td>\n",
       "      <td>-4171.483647</td>\n",
       "      <td>36</td>\n",
       "      <td>высшее</td>\n",
       "      <td>0</td>\n",
       "      <td>женат / замужем</td>\n",
       "      <td>0</td>\n",
       "      <td>M</td>\n",
       "      <td>компаньон</td>\n",
       "      <td>0</td>\n",
       "      <td>113943.491460</td>\n",
       "      <td>покупка недвижимости</td>\n",
       "    </tr>\n",
       "    <tr>\n",
       "      <th>11</th>\n",
       "      <td>0</td>\n",
       "      <td>-792.701887</td>\n",
       "      <td>40</td>\n",
       "      <td>среднее</td>\n",
       "      <td>1</td>\n",
       "      <td>женат / замужем</td>\n",
       "      <td>0</td>\n",
       "      <td>F</td>\n",
       "      <td>сотрудник</td>\n",
       "      <td>0</td>\n",
       "      <td>77069.234271</td>\n",
       "      <td>покупка коммерческой недвижимости</td>\n",
       "    </tr>\n",
       "    <tr>\n",
       "      <th>12</th>\n",
       "      <td>0</td>\n",
       "      <td>NaN</td>\n",
       "      <td>65</td>\n",
       "      <td>среднее</td>\n",
       "      <td>1</td>\n",
       "      <td>гражданский брак</td>\n",
       "      <td>1</td>\n",
       "      <td>M</td>\n",
       "      <td>пенсионер</td>\n",
       "      <td>0</td>\n",
       "      <td>NaN</td>\n",
       "      <td>сыграть свадьбу</td>\n",
       "    </tr>\n",
       "    <tr>\n",
       "      <th>13</th>\n",
       "      <td>0</td>\n",
       "      <td>-1846.641941</td>\n",
       "      <td>54</td>\n",
       "      <td>неоконченное высшее</td>\n",
       "      <td>2</td>\n",
       "      <td>женат / замужем</td>\n",
       "      <td>0</td>\n",
       "      <td>F</td>\n",
       "      <td>сотрудник</td>\n",
       "      <td>0</td>\n",
       "      <td>130458.228857</td>\n",
       "      <td>приобретение автомобиля</td>\n",
       "    </tr>\n",
       "    <tr>\n",
       "      <th>14</th>\n",
       "      <td>0</td>\n",
       "      <td>-1844.956182</td>\n",
       "      <td>56</td>\n",
       "      <td>высшее</td>\n",
       "      <td>0</td>\n",
       "      <td>гражданский брак</td>\n",
       "      <td>1</td>\n",
       "      <td>F</td>\n",
       "      <td>компаньон</td>\n",
       "      <td>1</td>\n",
       "      <td>165127.911772</td>\n",
       "      <td>покупка жилой недвижимости</td>\n",
       "    </tr>\n",
       "    <tr>\n",
       "      <th>15</th>\n",
       "      <td>1</td>\n",
       "      <td>-972.364419</td>\n",
       "      <td>26</td>\n",
       "      <td>среднее</td>\n",
       "      <td>1</td>\n",
       "      <td>женат / замужем</td>\n",
       "      <td>0</td>\n",
       "      <td>F</td>\n",
       "      <td>сотрудник</td>\n",
       "      <td>0</td>\n",
       "      <td>116820.904450</td>\n",
       "      <td>строительство собственной недвижимости</td>\n",
       "    </tr>\n",
       "    <tr>\n",
       "      <th>16</th>\n",
       "      <td>0</td>\n",
       "      <td>-1719.934226</td>\n",
       "      <td>35</td>\n",
       "      <td>среднее</td>\n",
       "      <td>1</td>\n",
       "      <td>женат / замужем</td>\n",
       "      <td>0</td>\n",
       "      <td>F</td>\n",
       "      <td>сотрудник</td>\n",
       "      <td>0</td>\n",
       "      <td>289202.704229</td>\n",
       "      <td>недвижимость</td>\n",
       "    </tr>\n",
       "    <tr>\n",
       "      <th>17</th>\n",
       "      <td>0</td>\n",
       "      <td>-2369.999720</td>\n",
       "      <td>33</td>\n",
       "      <td>высшее</td>\n",
       "      <td>0</td>\n",
       "      <td>гражданский брак</td>\n",
       "      <td>1</td>\n",
       "      <td>M</td>\n",
       "      <td>сотрудник</td>\n",
       "      <td>0</td>\n",
       "      <td>90410.586745</td>\n",
       "      <td>строительство недвижимости</td>\n",
       "    </tr>\n",
       "    <tr>\n",
       "      <th>18</th>\n",
       "      <td>0</td>\n",
       "      <td>400281.136913</td>\n",
       "      <td>53</td>\n",
       "      <td>среднее</td>\n",
       "      <td>1</td>\n",
       "      <td>вдовец / вдова</td>\n",
       "      <td>2</td>\n",
       "      <td>F</td>\n",
       "      <td>пенсионер</td>\n",
       "      <td>0</td>\n",
       "      <td>56823.777243</td>\n",
       "      <td>на покупку подержанного автомобиля</td>\n",
       "    </tr>\n",
       "    <tr>\n",
       "      <th>19</th>\n",
       "      <td>0</td>\n",
       "      <td>-10038.818549</td>\n",
       "      <td>48</td>\n",
       "      <td>СРЕДНЕЕ</td>\n",
       "      <td>1</td>\n",
       "      <td>в разводе</td>\n",
       "      <td>3</td>\n",
       "      <td>F</td>\n",
       "      <td>сотрудник</td>\n",
       "      <td>0</td>\n",
       "      <td>242831.107982</td>\n",
       "      <td>на покупку своего автомобиля</td>\n",
       "    </tr>\n",
       "  </tbody>\n",
       "</table>\n",
       "</div>"
      ],
      "text/plain": [
       "    children  days_employed  dob_years            education  education_id  \\\n",
       "0          1   -8437.673028         42               высшее             0   \n",
       "1          1   -4024.803754         36              среднее             1   \n",
       "2          0   -5623.422610         33              Среднее             1   \n",
       "3          3   -4124.747207         32              среднее             1   \n",
       "4          0  340266.072047         53              среднее             1   \n",
       "5          0    -926.185831         27               высшее             0   \n",
       "6          0   -2879.202052         43               высшее             0   \n",
       "7          0    -152.779569         50              СРЕДНЕЕ             1   \n",
       "8          2   -6929.865299         35               ВЫСШЕЕ             0   \n",
       "9          0   -2188.756445         41              среднее             1   \n",
       "10         2   -4171.483647         36               высшее             0   \n",
       "11         0    -792.701887         40              среднее             1   \n",
       "12         0            NaN         65              среднее             1   \n",
       "13         0   -1846.641941         54  неоконченное высшее             2   \n",
       "14         0   -1844.956182         56               высшее             0   \n",
       "15         1    -972.364419         26              среднее             1   \n",
       "16         0   -1719.934226         35              среднее             1   \n",
       "17         0   -2369.999720         33               высшее             0   \n",
       "18         0  400281.136913         53              среднее             1   \n",
       "19         0  -10038.818549         48              СРЕДНЕЕ             1   \n",
       "\n",
       "       family_status  family_status_id gender income_type  debt  \\\n",
       "0    женат / замужем                 0      F   сотрудник     0   \n",
       "1    женат / замужем                 0      F   сотрудник     0   \n",
       "2    женат / замужем                 0      M   сотрудник     0   \n",
       "3    женат / замужем                 0      M   сотрудник     0   \n",
       "4   гражданский брак                 1      F   пенсионер     0   \n",
       "5   гражданский брак                 1      M   компаньон     0   \n",
       "6    женат / замужем                 0      F   компаньон     0   \n",
       "7    женат / замужем                 0      M   сотрудник     0   \n",
       "8   гражданский брак                 1      F   сотрудник     0   \n",
       "9    женат / замужем                 0      M   сотрудник     0   \n",
       "10   женат / замужем                 0      M   компаньон     0   \n",
       "11   женат / замужем                 0      F   сотрудник     0   \n",
       "12  гражданский брак                 1      M   пенсионер     0   \n",
       "13   женат / замужем                 0      F   сотрудник     0   \n",
       "14  гражданский брак                 1      F   компаньон     1   \n",
       "15   женат / замужем                 0      F   сотрудник     0   \n",
       "16   женат / замужем                 0      F   сотрудник     0   \n",
       "17  гражданский брак                 1      M   сотрудник     0   \n",
       "18    вдовец / вдова                 2      F   пенсионер     0   \n",
       "19         в разводе                 3      F   сотрудник     0   \n",
       "\n",
       "     total_income                                 purpose  \n",
       "0   253875.639453                           покупка жилья  \n",
       "1   112080.014102                 приобретение автомобиля  \n",
       "2   145885.952297                           покупка жилья  \n",
       "3   267628.550329              дополнительное образование  \n",
       "4   158616.077870                         сыграть свадьбу  \n",
       "5   255763.565419                           покупка жилья  \n",
       "6   240525.971920                       операции с жильем  \n",
       "7   135823.934197                             образование  \n",
       "8    95856.832424                   на проведение свадьбы  \n",
       "9   144425.938277                 покупка жилья для семьи  \n",
       "10  113943.491460                    покупка недвижимости  \n",
       "11   77069.234271       покупка коммерческой недвижимости  \n",
       "12            NaN                         сыграть свадьбу  \n",
       "13  130458.228857                 приобретение автомобиля  \n",
       "14  165127.911772              покупка жилой недвижимости  \n",
       "15  116820.904450  строительство собственной недвижимости  \n",
       "16  289202.704229                            недвижимость  \n",
       "17   90410.586745              строительство недвижимости  \n",
       "18   56823.777243      на покупку подержанного автомобиля  \n",
       "19  242831.107982            на покупку своего автомобиля  "
      ]
     },
     "execution_count": 2,
     "metadata": {},
     "output_type": "execute_result"
    }
   ],
   "source": [
    "data.head(20)"
   ]
  },
  {
   "cell_type": "markdown",
   "id": "0ed8f27f",
   "metadata": {
    "deletable": false,
    "editable": false,
    "id": "0ed8f27f"
   },
   "source": [
    "**Задание 3. Выведите основную информацию о датафрейме с помощью метода `info()`.**"
   ]
  },
  {
   "cell_type": "code",
   "execution_count": 3,
   "id": "ab3f863b",
   "metadata": {
    "deletable": false,
    "id": "ab3f863b",
    "outputId": "15376089-8dad-46c9-b520-c05248d43158"
   },
   "outputs": [
    {
     "name": "stdout",
     "output_type": "stream",
     "text": [
      "<class 'pandas.core.frame.DataFrame'>\n",
      "RangeIndex: 21525 entries, 0 to 21524\n",
      "Data columns (total 12 columns):\n",
      " #   Column            Non-Null Count  Dtype  \n",
      "---  ------            --------------  -----  \n",
      " 0   children          21525 non-null  int64  \n",
      " 1   days_employed     19351 non-null  float64\n",
      " 2   dob_years         21525 non-null  int64  \n",
      " 3   education         21525 non-null  object \n",
      " 4   education_id      21525 non-null  int64  \n",
      " 5   family_status     21525 non-null  object \n",
      " 6   family_status_id  21525 non-null  int64  \n",
      " 7   gender            21525 non-null  object \n",
      " 8   income_type       21525 non-null  object \n",
      " 9   debt              21525 non-null  int64  \n",
      " 10  total_income      19351 non-null  float64\n",
      " 11  purpose           21525 non-null  object \n",
      "dtypes: float64(2), int64(5), object(5)\n",
      "memory usage: 2.0+ MB\n"
     ]
    }
   ],
   "source": [
    "data.info()"
   ]
  },
  {
   "cell_type": "markdown",
   "id": "60e3e22d",
   "metadata": {
    "deletable": false,
    "editable": false,
    "id": "60e3e22d"
   },
   "source": [
    "## Предобработка данных"
   ]
  },
  {
   "cell_type": "markdown",
   "id": "03dc170c",
   "metadata": {
    "deletable": false,
    "editable": false,
    "id": "03dc170c"
   },
   "source": [
    "### Удаление пропусков"
   ]
  },
  {
   "cell_type": "markdown",
   "id": "a4f54eef",
   "metadata": {
    "deletable": false,
    "editable": false,
    "id": "a4f54eef"
   },
   "source": [
    "**Задание 4. Выведите количество пропущенных значений для каждого столбца. Используйте комбинацию двух методов.**"
   ]
  },
  {
   "cell_type": "code",
   "execution_count": 4,
   "id": "2dc372b2",
   "metadata": {
    "deletable": false,
    "id": "2dc372b2",
    "outputId": "81f4d817-781c-465c-ed15-91ce4446810d"
   },
   "outputs": [
    {
     "data": {
      "text/plain": [
       "children               0\n",
       "days_employed       2174\n",
       "dob_years              0\n",
       "education              0\n",
       "education_id           0\n",
       "family_status          0\n",
       "family_status_id       0\n",
       "gender                 0\n",
       "income_type            0\n",
       "debt                   0\n",
       "total_income        2174\n",
       "purpose                0\n",
       "dtype: int64"
      ]
     },
     "execution_count": 4,
     "metadata": {},
     "output_type": "execute_result"
    }
   ],
   "source": [
    "data.isna().sum()"
   ]
  },
  {
   "cell_type": "markdown",
   "id": "a029325f",
   "metadata": {},
   "source": [
    "<div class=\"alert alert-block alert-success\">\n",
    "<b>Комментарий ревьюера:</b>\n",
    "\n",
    "✔️ Изучить долю пропущенных пропусков можно еще с помощью `data.isna().mean()*100`\n",
    "  </div>"
   ]
  },
  {
   "cell_type": "markdown",
   "id": "14f011b1",
   "metadata": {
    "deletable": false,
    "editable": false,
    "id": "14f011b1"
   },
   "source": [
    "**Задание 5. В двух столбцах есть пропущенные значения. Один из них — `days_employed`. Пропуски в этом столбце вы обработаете на следующем этапе. Другой столбец с пропущенными значениями — `total_income` — хранит данные о доходах. На сумму дохода сильнее всего влияет тип занятости, поэтому заполнить пропуски в этом столбце нужно медианным значением по каждому типу из столбца `income_type`. Например, у человека с типом занятости `сотрудник` пропуск в столбце `total_income` должен быть заполнен медианным доходом среди всех записей с тем же типом.**"
   ]
  },
  {
   "cell_type": "code",
   "execution_count": 5,
   "id": "bdabfb6e",
   "metadata": {
    "deletable": false,
    "id": "bdabfb6e"
   },
   "outputs": [],
   "source": [
    "for t in data['income_type'].unique():\n",
    "    data.loc[(data['income_type'] == t) & (data['total_income'].isna()), 'total_income'] = \\\n",
    "    data.loc[(data['income_type'] == t), 'total_income'].median()"
   ]
  },
  {
   "cell_type": "markdown",
   "id": "ef3d43b6",
   "metadata": {},
   "source": [
    "<div class=\"alert alert-block alert-success\">\n",
    "<b>Комментарий ревьюера:</b>\n",
    "\n",
    " ✔️  Можно также использовать следующую конструкцию `data['total_income'] = data['total_income'].fillna(data.groupby(['income_type'])['total_income'].transform('median'))`\n",
    "Функция transform() в принципе полезная https://pandas.pydata.org/pandas-docs/stable/reference/api/pandas.DataFrame.transform.html\n",
    "  </div>"
   ]
  },
  {
   "cell_type": "markdown",
   "id": "5be34059",
   "metadata": {
    "deletable": false,
    "editable": false,
    "id": "5be34059"
   },
   "source": [
    "### Обработка аномальных значений"
   ]
  },
  {
   "cell_type": "markdown",
   "id": "a87606cb",
   "metadata": {
    "deletable": false,
    "editable": false,
    "id": "a87606cb"
   },
   "source": [
    "**Задание 6. В данных могут встречаться артефакты (аномалии) — значения, которые не отражают действительность и появились по какой-то ошибке. таким артефактом будет отрицательное количество дней трудового стажа в столбце `days_employed`. Для реальных данных это нормально. Обработайте значения в этом столбце: замените все отрицательные значения положительными с помощью метода `abs()`.**"
   ]
  },
  {
   "cell_type": "code",
   "execution_count": 6,
   "id": "020c46cc",
   "metadata": {
    "deletable": false,
    "id": "020c46cc"
   },
   "outputs": [],
   "source": [
    "data['days_employed'] = data['days_employed'].abs()"
   ]
  },
  {
   "cell_type": "markdown",
   "id": "45538a3a",
   "metadata": {
    "deletable": false,
    "editable": false,
    "id": "45538a3a"
   },
   "source": [
    "**Задание 7. Для каждого типа занятости выведите медианное значение трудового стажа `days_employed` в днях.**"
   ]
  },
  {
   "cell_type": "code",
   "execution_count": 7,
   "id": "cd3e6328",
   "metadata": {
    "deletable": false,
    "id": "cd3e6328",
    "outputId": "801ef80e-522b-4668-f34e-565af7432bcf"
   },
   "outputs": [
    {
     "data": {
      "text/plain": [
       "income_type\n",
       "безработный        366413.652744\n",
       "в декрете            3296.759962\n",
       "госслужащий          2689.368353\n",
       "компаньон            1547.382223\n",
       "пенсионер          365213.306266\n",
       "предприниматель       520.848083\n",
       "сотрудник            1574.202821\n",
       "студент               578.751554\n",
       "Name: days_employed, dtype: float64"
      ]
     },
     "execution_count": 7,
     "metadata": {},
     "output_type": "execute_result"
    }
   ],
   "source": [
    "data.groupby('income_type')['days_employed'].agg('median')"
   ]
  },
  {
   "cell_type": "markdown",
   "id": "90c5f058",
   "metadata": {
    "deletable": false,
    "editable": false,
    "id": "90c5f058"
   },
   "source": [
    "У двух типов (безработные и пенсионеры) получатся аномально большие значения. Исправить такие значения сложно, поэтому оставьте их как есть."
   ]
  },
  {
   "cell_type": "markdown",
   "id": "9652e50d",
   "metadata": {
    "deletable": false,
    "editable": false,
    "id": "9652e50d"
   },
   "source": [
    "**Задание 8. Выведите перечень уникальных значений столбца `children`.**"
   ]
  },
  {
   "cell_type": "code",
   "execution_count": 8,
   "id": "dbb37b8e",
   "metadata": {
    "deletable": false,
    "id": "dbb37b8e",
    "outputId": "6975b15c-7f95-4697-d16d-a0c79b657b03"
   },
   "outputs": [
    {
     "data": {
      "text/plain": [
       "array([ 1,  0,  3,  2, -1,  4, 20,  5])"
      ]
     },
     "execution_count": 8,
     "metadata": {},
     "output_type": "execute_result"
    }
   ],
   "source": [
    "data['children'].unique()"
   ]
  },
  {
   "cell_type": "markdown",
   "id": "2b8b0715",
   "metadata": {
    "deletable": false,
    "editable": false,
    "id": "2b8b0715"
   },
   "source": [
    "**Задание 9. В столбце `children` есть два аномальных значения. Удалите строки, в которых встречаются такие аномальные значения из датафрейма `data`.**"
   ]
  },
  {
   "cell_type": "code",
   "execution_count": 9,
   "id": "20009df8",
   "metadata": {
    "deletable": false,
    "id": "20009df8"
   },
   "outputs": [],
   "source": [
    "data = data[(data['children'] != -1) & (data['children'] != 20)]"
   ]
  },
  {
   "cell_type": "markdown",
   "id": "668c490c",
   "metadata": {},
   "source": [
    "<div class=\"alert alert-block alert-success\">\n",
    "<b>Комментарий ревьюера:</b>\n",
    "\n",
    " ✔️  Все верно, можно еще использовать query(), который позволяет работать с нужными данными) https://pandas.pydata.org/pandas-docs/stable/reference/api/pandas.DataFrame.query.html\n",
    "  </div>"
   ]
  },
  {
   "cell_type": "markdown",
   "id": "8c6ac9f1",
   "metadata": {
    "deletable": false,
    "editable": false,
    "id": "8c6ac9f1"
   },
   "source": [
    "**Задание 10. Ещё раз выведите перечень уникальных значений столбца `children`, чтобы убедиться, что артефакты удалены.**"
   ]
  },
  {
   "cell_type": "code",
   "execution_count": 10,
   "id": "07337b81",
   "metadata": {
    "deletable": false,
    "id": "07337b81",
    "outputId": "b2097101-d49d-44d9-901b-32a65c9463d1"
   },
   "outputs": [
    {
     "data": {
      "text/plain": [
       "array([1, 0, 3, 2, 4, 5])"
      ]
     },
     "execution_count": 10,
     "metadata": {},
     "output_type": "execute_result"
    }
   ],
   "source": [
    "data['children'].unique()"
   ]
  },
  {
   "cell_type": "markdown",
   "id": "ee3f52d4",
   "metadata": {
    "deletable": false,
    "editable": false,
    "id": "ee3f52d4"
   },
   "source": [
    "### Удаление пропусков (продолжение)"
   ]
  },
  {
   "cell_type": "markdown",
   "id": "a700b0e4",
   "metadata": {
    "deletable": false,
    "editable": false,
    "id": "a700b0e4"
   },
   "source": [
    "**Задание 11. Заполните пропуски в столбце `days_employed` медианными значениями по каждого типа занятости `income_type`.**"
   ]
  },
  {
   "cell_type": "code",
   "execution_count": 11,
   "id": "61946b83",
   "metadata": {
    "deletable": false,
    "id": "61946b83"
   },
   "outputs": [],
   "source": [
    "for t in data['income_type'].unique():\n",
    "    data.loc[(data['income_type'] == t) & (data['days_employed'].isna()), 'days_employed'] = \\\n",
    "    data.loc[(data['income_type'] == t), 'days_employed'].median()"
   ]
  },
  {
   "cell_type": "markdown",
   "id": "550dcd9b",
   "metadata": {
    "deletable": false,
    "editable": false,
    "id": "550dcd9b"
   },
   "source": [
    "**Задание 12. Убедитесь, что все пропуски заполнены. Проверьте себя и ещё раз выведите количество пропущенных значений для каждого столбца с помощью двух методов.**"
   ]
  },
  {
   "cell_type": "code",
   "execution_count": 12,
   "id": "937c7014",
   "metadata": {
    "deletable": false,
    "id": "937c7014",
    "outputId": "8da1e4e1-358e-4e87-98c9-f261bce0a7b2"
   },
   "outputs": [
    {
     "data": {
      "text/plain": [
       "children            0\n",
       "days_employed       0\n",
       "dob_years           0\n",
       "education           0\n",
       "education_id        0\n",
       "family_status       0\n",
       "family_status_id    0\n",
       "gender              0\n",
       "income_type         0\n",
       "debt                0\n",
       "total_income        0\n",
       "purpose             0\n",
       "dtype: int64"
      ]
     },
     "execution_count": 12,
     "metadata": {},
     "output_type": "execute_result"
    }
   ],
   "source": [
    "data.isna().sum()"
   ]
  },
  {
   "cell_type": "markdown",
   "id": "d522e295",
   "metadata": {
    "deletable": false,
    "editable": false,
    "id": "d522e295"
   },
   "source": [
    "### Изменение типов данных"
   ]
  },
  {
   "cell_type": "markdown",
   "id": "c229c581",
   "metadata": {
    "deletable": false,
    "editable": false,
    "id": "c229c581"
   },
   "source": [
    "**Задание 13. Замените вещественный тип данных в столбце `total_income` на целочисленный с помощью метода `astype()`.**"
   ]
  },
  {
   "cell_type": "code",
   "execution_count": 13,
   "id": "31036462",
   "metadata": {
    "deletable": false,
    "id": "31036462"
   },
   "outputs": [],
   "source": [
    "data['total_income'] = data['total_income'].astype(int)"
   ]
  },
  {
   "cell_type": "markdown",
   "id": "b8e3d1d9",
   "metadata": {
    "deletable": false,
    "editable": false,
    "id": "b8e3d1d9"
   },
   "source": [
    "### Обработка дубликатов"
   ]
  },
  {
   "cell_type": "markdown",
   "id": "9be53c49",
   "metadata": {
    "deletable": false,
    "editable": false,
    "id": "9be53c49"
   },
   "source": [
    "**Задание 14. Обработайте неявные дубликаты в столбце `education`. В этом столбце есть одни и те же значения, но записанные по-разному: с использованием заглавных и строчных букв. Приведите их к нижнему регистру.**"
   ]
  },
  {
   "cell_type": "code",
   "execution_count": 14,
   "id": "d89e73e1",
   "metadata": {
    "deletable": false,
    "id": "d89e73e1"
   },
   "outputs": [],
   "source": [
    "data['education'] = data['education'].str.lower()"
   ]
  },
  {
   "cell_type": "markdown",
   "id": "01d4500e",
   "metadata": {
    "deletable": false,
    "editable": false,
    "id": "01d4500e"
   },
   "source": [
    "**Задание 15. Выведите на экран количество строк-дубликатов в данных. Если такие строки присутствуют, удалите их.**"
   ]
  },
  {
   "cell_type": "code",
   "execution_count": 15,
   "id": "e10efb23",
   "metadata": {
    "deletable": false,
    "id": "e10efb23",
    "outputId": "9684deba-1934-42d1-99e1-cda61740f822"
   },
   "outputs": [
    {
     "data": {
      "text/plain": [
       "71"
      ]
     },
     "execution_count": 15,
     "metadata": {},
     "output_type": "execute_result"
    }
   ],
   "source": [
    "data.duplicated().sum()"
   ]
  },
  {
   "cell_type": "code",
   "execution_count": 16,
   "id": "df853f20",
   "metadata": {
    "deletable": false,
    "id": "df853f20"
   },
   "outputs": [],
   "source": [
    "data = data.drop_duplicates()"
   ]
  },
  {
   "cell_type": "markdown",
   "id": "627be38f",
   "metadata": {
    "deletable": false,
    "editable": false,
    "id": "627be38f"
   },
   "source": [
    "### Категоризация данных"
   ]
  },
  {
   "cell_type": "markdown",
   "id": "4684c3e0",
   "metadata": {
    "deletable": false,
    "editable": false,
    "id": "4684c3e0"
   },
   "source": [
    "**Задание 16. На основании диапазонов, указанных ниже, создайте в датафрейме `data` столбец `total_income_category` с категориями:**\n",
    "\n",
    "- 0–30000 — `'E'`;\n",
    "- 30001–50000 — `'D'`;\n",
    "- 50001–200000 — `'C'`;\n",
    "- 200001–1000000 — `'B'`;\n",
    "- 1000001 и выше — `'A'`.\n",
    "\n",
    "\n",
    "**Например, кредитополучателю с доходом 25000 нужно назначить категорию `'E'`, а клиенту, получающему 235000, — `'B'`. Используйте собственную функцию с именем `categorize_income()` и метод `apply()`.**"
   ]
  },
  {
   "cell_type": "code",
   "execution_count": 17,
   "id": "78965238",
   "metadata": {
    "deletable": false,
    "id": "78965238"
   },
   "outputs": [],
   "source": [
    "def categorize_income(income):\n",
    "    try:\n",
    "        if 0 <= income <= 30000:\n",
    "            return 'E'\n",
    "        elif 30001 <= income <= 50000:\n",
    "            return 'D'\n",
    "        elif 50001 <= income <= 200000:\n",
    "            return 'C'\n",
    "        elif 200001 <= income <= 1000000:\n",
    "            return 'B'\n",
    "        elif income >= 1000001:\n",
    "            return 'A'\n",
    "    except:\n",
    "        pass"
   ]
  },
  {
   "cell_type": "code",
   "execution_count": 18,
   "id": "0980ada1",
   "metadata": {
    "deletable": false,
    "id": "0980ada1"
   },
   "outputs": [],
   "source": [
    "data['total_income_category'] = data['total_income'].apply(categorize_income)"
   ]
  },
  {
   "cell_type": "markdown",
   "id": "9cc2709e",
   "metadata": {},
   "source": [
    "<div class=\"alert alert-block alert-success\">\n",
    "<b>Комментарий ревьюера:</b>\n",
    "\n",
    "✔️  Функцию написала правильную, молодец, но применение функции лучше проверять с помощью `value_counts`, вдруг какое то условие не сработало)\n",
    "\n",
    "  </div>"
   ]
  },
  {
   "cell_type": "markdown",
   "id": "9917bba0",
   "metadata": {
    "deletable": false,
    "editable": false,
    "id": "9917bba0"
   },
   "source": [
    "**Задание 17. Выведите на экран перечень уникальных целей взятия кредита из столбца `purpose`.**"
   ]
  },
  {
   "cell_type": "code",
   "execution_count": 19,
   "id": "ee07b65e",
   "metadata": {
    "deletable": false,
    "id": "ee07b65e",
    "outputId": "673c12d9-7d7e-4ae0-9812-c622c89dd244"
   },
   "outputs": [
    {
     "data": {
      "text/plain": [
       "array(['покупка жилья', 'приобретение автомобиля',\n",
       "       'дополнительное образование', 'сыграть свадьбу',\n",
       "       'операции с жильем', 'образование', 'на проведение свадьбы',\n",
       "       'покупка жилья для семьи', 'покупка недвижимости',\n",
       "       'покупка коммерческой недвижимости', 'покупка жилой недвижимости',\n",
       "       'строительство собственной недвижимости', 'недвижимость',\n",
       "       'строительство недвижимости', 'на покупку подержанного автомобиля',\n",
       "       'на покупку своего автомобиля',\n",
       "       'операции с коммерческой недвижимостью',\n",
       "       'строительство жилой недвижимости', 'жилье',\n",
       "       'операции со своей недвижимостью', 'автомобили',\n",
       "       'заняться образованием', 'сделка с подержанным автомобилем',\n",
       "       'получение образования', 'автомобиль', 'свадьба',\n",
       "       'получение дополнительного образования', 'покупка своего жилья',\n",
       "       'операции с недвижимостью', 'получение высшего образования',\n",
       "       'свой автомобиль', 'сделка с автомобилем',\n",
       "       'профильное образование', 'высшее образование',\n",
       "       'покупка жилья для сдачи', 'на покупку автомобиля', 'ремонт жилью',\n",
       "       'заняться высшим образованием'], dtype=object)"
      ]
     },
     "execution_count": 19,
     "metadata": {},
     "output_type": "execute_result"
    }
   ],
   "source": [
    "data['purpose'].unique()"
   ]
  },
  {
   "cell_type": "markdown",
   "id": "52b79d56",
   "metadata": {
    "deletable": false,
    "editable": false,
    "id": "52b79d56"
   },
   "source": [
    "**Задание 18. Создайте функцию, которая на основании данных из столбца `purpose` сформирует новый столбец `purpose_category`, в который войдут следующие категории:**\n",
    "\n",
    "- `'операции с автомобилем'`,\n",
    "- `'операции с недвижимостью'`,\n",
    "- `'проведение свадьбы'`,\n",
    "- `'получение образования'`.\n",
    "\n",
    "**Например, если в столбце `purpose` находится подстрока `'на покупку автомобиля'`, то в столбце `purpose_category` должна появиться строка `'операции с автомобилем'`.**\n",
    "\n",
    "**Используйте собственную функцию с именем `categorize_purpose()` и метод `apply()`. Изучите данные в столбце `purpose` и определите, какие подстроки помогут вам правильно определить категорию.**"
   ]
  },
  {
   "cell_type": "code",
   "execution_count": 20,
   "id": "be41da5d",
   "metadata": {
    "deletable": false,
    "id": "be41da5d"
   },
   "outputs": [],
   "source": [
    "def categorize_purpose(row):\n",
    "    try:\n",
    "        if 'автом' in row:\n",
    "            return 'операции с автомобилем'\n",
    "        elif 'жил' in row or 'недвиж' in row:\n",
    "            return 'операции с недвижимостью'\n",
    "        elif 'свад' in row:\n",
    "            return 'проведение свадьбы'\n",
    "        elif 'образов' in row:\n",
    "            return 'получение образования'\n",
    "    except:\n",
    "        return 'нет категории'"
   ]
  },
  {
   "cell_type": "code",
   "execution_count": 21,
   "id": "94c4a19a",
   "metadata": {
    "deletable": false,
    "id": "94c4a19a"
   },
   "outputs": [],
   "source": [
    "data['purpose_category'] = data['purpose'].apply(categorize_purpose)"
   ]
  },
  {
   "cell_type": "markdown",
   "id": "3d596c34",
   "metadata": {
    "deletable": false,
    "editable": false,
    "id": "3d596c34"
   },
   "source": [
    "### Шаг 3. Исследуйте данные и ответьте на вопросы"
   ]
  },
  {
   "cell_type": "markdown",
   "id": "648db036",
   "metadata": {
    "deletable": false,
    "editable": false,
    "id": "648db036"
   },
   "source": [
    "#### 3.1 Есть ли зависимость между количеством детей и возвратом кредита в срок?"
   ]
  },
  {
   "cell_type": "code",
   "execution_count": 90,
   "id": "0aaf5abc",
   "metadata": {},
   "outputs": [
    {
     "data": {
      "text/html": [
       "<div>\n",
       "<style scoped>\n",
       "    .dataframe tbody tr th:only-of-type {\n",
       "        vertical-align: middle;\n",
       "    }\n",
       "\n",
       "    .dataframe tbody tr th {\n",
       "        vertical-align: top;\n",
       "    }\n",
       "\n",
       "    .dataframe thead th {\n",
       "        text-align: right;\n",
       "    }\n",
       "</style>\n",
       "<table border=\"1\" class=\"dataframe\">\n",
       "  <thead>\n",
       "    <tr style=\"text-align: right;\">\n",
       "      <th></th>\n",
       "      <th>children</th>\n",
       "      <th>days_employed</th>\n",
       "      <th>dob_years</th>\n",
       "      <th>education</th>\n",
       "      <th>education_id</th>\n",
       "      <th>family_status</th>\n",
       "      <th>family_status_id</th>\n",
       "      <th>gender</th>\n",
       "      <th>income_type</th>\n",
       "      <th>debt</th>\n",
       "      <th>total_income</th>\n",
       "      <th>purpose</th>\n",
       "      <th>total_income_category</th>\n",
       "      <th>purpose_category</th>\n",
       "    </tr>\n",
       "  </thead>\n",
       "  <tbody>\n",
       "    <tr>\n",
       "      <th>0</th>\n",
       "      <td>1</td>\n",
       "      <td>8437.673028</td>\n",
       "      <td>42</td>\n",
       "      <td>высшее</td>\n",
       "      <td>0</td>\n",
       "      <td>женат / замужем</td>\n",
       "      <td>0</td>\n",
       "      <td>F</td>\n",
       "      <td>сотрудник</td>\n",
       "      <td>0</td>\n",
       "      <td>253875</td>\n",
       "      <td>покупка жилья</td>\n",
       "      <td>B</td>\n",
       "      <td>операции с недвижимостью</td>\n",
       "    </tr>\n",
       "    <tr>\n",
       "      <th>1</th>\n",
       "      <td>1</td>\n",
       "      <td>4024.803754</td>\n",
       "      <td>36</td>\n",
       "      <td>среднее</td>\n",
       "      <td>1</td>\n",
       "      <td>женат / замужем</td>\n",
       "      <td>0</td>\n",
       "      <td>F</td>\n",
       "      <td>сотрудник</td>\n",
       "      <td>0</td>\n",
       "      <td>112080</td>\n",
       "      <td>приобретение автомобиля</td>\n",
       "      <td>C</td>\n",
       "      <td>операции с автомобилем</td>\n",
       "    </tr>\n",
       "    <tr>\n",
       "      <th>2</th>\n",
       "      <td>0</td>\n",
       "      <td>5623.422610</td>\n",
       "      <td>33</td>\n",
       "      <td>среднее</td>\n",
       "      <td>1</td>\n",
       "      <td>женат / замужем</td>\n",
       "      <td>0</td>\n",
       "      <td>M</td>\n",
       "      <td>сотрудник</td>\n",
       "      <td>0</td>\n",
       "      <td>145885</td>\n",
       "      <td>покупка жилья</td>\n",
       "      <td>C</td>\n",
       "      <td>операции с недвижимостью</td>\n",
       "    </tr>\n",
       "    <tr>\n",
       "      <th>3</th>\n",
       "      <td>3</td>\n",
       "      <td>4124.747207</td>\n",
       "      <td>32</td>\n",
       "      <td>среднее</td>\n",
       "      <td>1</td>\n",
       "      <td>женат / замужем</td>\n",
       "      <td>0</td>\n",
       "      <td>M</td>\n",
       "      <td>сотрудник</td>\n",
       "      <td>0</td>\n",
       "      <td>267628</td>\n",
       "      <td>дополнительное образование</td>\n",
       "      <td>B</td>\n",
       "      <td>получение образования</td>\n",
       "    </tr>\n",
       "    <tr>\n",
       "      <th>4</th>\n",
       "      <td>0</td>\n",
       "      <td>340266.072047</td>\n",
       "      <td>53</td>\n",
       "      <td>среднее</td>\n",
       "      <td>1</td>\n",
       "      <td>гражданский брак</td>\n",
       "      <td>1</td>\n",
       "      <td>F</td>\n",
       "      <td>пенсионер</td>\n",
       "      <td>0</td>\n",
       "      <td>158616</td>\n",
       "      <td>сыграть свадьбу</td>\n",
       "      <td>C</td>\n",
       "      <td>проведение свадьбы</td>\n",
       "    </tr>\n",
       "    <tr>\n",
       "      <th>...</th>\n",
       "      <td>...</td>\n",
       "      <td>...</td>\n",
       "      <td>...</td>\n",
       "      <td>...</td>\n",
       "      <td>...</td>\n",
       "      <td>...</td>\n",
       "      <td>...</td>\n",
       "      <td>...</td>\n",
       "      <td>...</td>\n",
       "      <td>...</td>\n",
       "      <td>...</td>\n",
       "      <td>...</td>\n",
       "      <td>...</td>\n",
       "      <td>...</td>\n",
       "    </tr>\n",
       "    <tr>\n",
       "      <th>21326</th>\n",
       "      <td>1</td>\n",
       "      <td>4529.316663</td>\n",
       "      <td>43</td>\n",
       "      <td>среднее</td>\n",
       "      <td>1</td>\n",
       "      <td>гражданский брак</td>\n",
       "      <td>1</td>\n",
       "      <td>F</td>\n",
       "      <td>компаньон</td>\n",
       "      <td>0</td>\n",
       "      <td>224791</td>\n",
       "      <td>операции с жильем</td>\n",
       "      <td>B</td>\n",
       "      <td>операции с недвижимостью</td>\n",
       "    </tr>\n",
       "    <tr>\n",
       "      <th>21327</th>\n",
       "      <td>0</td>\n",
       "      <td>343937.404131</td>\n",
       "      <td>67</td>\n",
       "      <td>среднее</td>\n",
       "      <td>1</td>\n",
       "      <td>женат / замужем</td>\n",
       "      <td>0</td>\n",
       "      <td>F</td>\n",
       "      <td>пенсионер</td>\n",
       "      <td>0</td>\n",
       "      <td>155999</td>\n",
       "      <td>сделка с автомобилем</td>\n",
       "      <td>C</td>\n",
       "      <td>операции с автомобилем</td>\n",
       "    </tr>\n",
       "    <tr>\n",
       "      <th>21328</th>\n",
       "      <td>1</td>\n",
       "      <td>2113.346888</td>\n",
       "      <td>38</td>\n",
       "      <td>среднее</td>\n",
       "      <td>1</td>\n",
       "      <td>гражданский брак</td>\n",
       "      <td>1</td>\n",
       "      <td>M</td>\n",
       "      <td>сотрудник</td>\n",
       "      <td>1</td>\n",
       "      <td>89672</td>\n",
       "      <td>недвижимость</td>\n",
       "      <td>C</td>\n",
       "      <td>операции с недвижимостью</td>\n",
       "    </tr>\n",
       "    <tr>\n",
       "      <th>21329</th>\n",
       "      <td>3</td>\n",
       "      <td>3112.481705</td>\n",
       "      <td>38</td>\n",
       "      <td>среднее</td>\n",
       "      <td>1</td>\n",
       "      <td>женат / замужем</td>\n",
       "      <td>0</td>\n",
       "      <td>M</td>\n",
       "      <td>сотрудник</td>\n",
       "      <td>1</td>\n",
       "      <td>244093</td>\n",
       "      <td>на покупку своего автомобиля</td>\n",
       "      <td>B</td>\n",
       "      <td>операции с автомобилем</td>\n",
       "    </tr>\n",
       "    <tr>\n",
       "      <th>21330</th>\n",
       "      <td>2</td>\n",
       "      <td>1984.507589</td>\n",
       "      <td>40</td>\n",
       "      <td>среднее</td>\n",
       "      <td>1</td>\n",
       "      <td>женат / замужем</td>\n",
       "      <td>0</td>\n",
       "      <td>F</td>\n",
       "      <td>сотрудник</td>\n",
       "      <td>0</td>\n",
       "      <td>82047</td>\n",
       "      <td>на покупку автомобиля</td>\n",
       "      <td>C</td>\n",
       "      <td>операции с автомобилем</td>\n",
       "    </tr>\n",
       "  </tbody>\n",
       "</table>\n",
       "<p>21331 rows × 14 columns</p>\n",
       "</div>"
      ],
      "text/plain": [
       "       children  days_employed  dob_years education  education_id  \\\n",
       "0             1    8437.673028         42    высшее             0   \n",
       "1             1    4024.803754         36   среднее             1   \n",
       "2             0    5623.422610         33   среднее             1   \n",
       "3             3    4124.747207         32   среднее             1   \n",
       "4             0  340266.072047         53   среднее             1   \n",
       "...         ...            ...        ...       ...           ...   \n",
       "21326         1    4529.316663         43   среднее             1   \n",
       "21327         0  343937.404131         67   среднее             1   \n",
       "21328         1    2113.346888         38   среднее             1   \n",
       "21329         3    3112.481705         38   среднее             1   \n",
       "21330         2    1984.507589         40   среднее             1   \n",
       "\n",
       "          family_status  family_status_id gender income_type  debt  \\\n",
       "0       женат / замужем                 0      F   сотрудник     0   \n",
       "1       женат / замужем                 0      F   сотрудник     0   \n",
       "2       женат / замужем                 0      M   сотрудник     0   \n",
       "3       женат / замужем                 0      M   сотрудник     0   \n",
       "4      гражданский брак                 1      F   пенсионер     0   \n",
       "...                 ...               ...    ...         ...   ...   \n",
       "21326  гражданский брак                 1      F   компаньон     0   \n",
       "21327   женат / замужем                 0      F   пенсионер     0   \n",
       "21328  гражданский брак                 1      M   сотрудник     1   \n",
       "21329   женат / замужем                 0      M   сотрудник     1   \n",
       "21330   женат / замужем                 0      F   сотрудник     0   \n",
       "\n",
       "       total_income                       purpose total_income_category  \\\n",
       "0            253875                 покупка жилья                     B   \n",
       "1            112080       приобретение автомобиля                     C   \n",
       "2            145885                 покупка жилья                     C   \n",
       "3            267628    дополнительное образование                     B   \n",
       "4            158616               сыграть свадьбу                     C   \n",
       "...             ...                           ...                   ...   \n",
       "21326        224791             операции с жильем                     B   \n",
       "21327        155999          сделка с автомобилем                     C   \n",
       "21328         89672                  недвижимость                     C   \n",
       "21329        244093  на покупку своего автомобиля                     B   \n",
       "21330         82047         на покупку автомобиля                     C   \n",
       "\n",
       "               purpose_category  \n",
       "0      операции с недвижимостью  \n",
       "1        операции с автомобилем  \n",
       "2      операции с недвижимостью  \n",
       "3         получение образования  \n",
       "4            проведение свадьбы  \n",
       "...                         ...  \n",
       "21326  операции с недвижимостью  \n",
       "21327    операции с автомобилем  \n",
       "21328  операции с недвижимостью  \n",
       "21329    операции с автомобилем  \n",
       "21330    операции с автомобилем  \n",
       "\n",
       "[21331 rows x 14 columns]"
      ]
     },
     "execution_count": 90,
     "metadata": {},
     "output_type": "execute_result"
    }
   ],
   "source": [
    "# почему-то у меня не работает всё что выше, поэтому копирую свой код\n",
    "import pandas as pd # импортирую библиотеку pandas\n",
    "data = pd.read_csv('/datasets/data.csv') # читаю таблицу\n",
    "\n",
    "# цикл для замены пропущенных значений в столбце ['income_type'] на медианное значение по тиу занятости\n",
    "# на каждом шаге цикла с помощью атрибута loc выбирю строки, в которых в ['income_type'] текущий тип занятости (q) + есть пропуски в ['total_income'] \n",
    "for q in data['income_type'].unique():\n",
    "    data.loc[(data['income_type'] == q) & (data['total_income'].isna()), 'total_income'] = \\\n",
    "    data.loc[(data['income_type'] == q), 'total_income'].median()\n",
    "\n",
    "# перевожу отрицательные значения в столбце ['days_employed'] методом abs() в положительные\n",
    "data['days_employed'] = abs(data['days_employed'])   \n",
    "\n",
    "# удаляю строки, в которых встречаются аномальные значения из датафрейма data.\n",
    "data = data[(data['children'] != -1) & (data['children'] != 20)] \n",
    "\n",
    "# цикл для замены пропущенных значений в столбце ['days_employed'] на медианное значение по тиу занятости ['income_type']\n",
    "# на каждом шаге цикла с помощью атрибута loc выбирю строки, в которых в ['income_type'] текущий тип занятости (q) + есть пропуски в ['days_employed']\n",
    "for q in data['income_type'].unique():\n",
    "    data.loc[(data['income_type'] == q) & (data['days_employed'].isna()), 'days_employed'] = \\\n",
    "    data.loc[(data['income_type'] == q), 'days_employed'].median()\n",
    "\n",
    "#привожу в int все значения\n",
    "data['total_income'] = data['total_income'].astype(int)     \n",
    "    \n",
    "#привожу к единому регистру\n",
    "data['education'] = data['education'].str.lower() # ваш код здесь\n",
    "\n",
    "#удаляю явные дубликаты\n",
    "data = data.drop_duplicates()\n",
    "\n",
    "# создаю функцию по категоризации данных по столбцу ['total_income']\n",
    "def categorize_income(total_income):\n",
    "    if total_income <= 30000:\n",
    "        return 'E'\n",
    "    if 30001 <= total_income <= 50000:\n",
    "        return 'D'\n",
    "    if 50001 <= total_income <= 200000:\n",
    "        return 'C'\n",
    "    if 200001 <= total_income <= 1000000:\n",
    "        return 'B'\n",
    "    return 'A'\n",
    "\n",
    "# создаю дополнительный столбец в таблице с категорией зарплат заёмщиков\n",
    "data['total_income_category'] = data['total_income'].apply(categorize_income) \n",
    "\n",
    "# вывожу все уникальные значения целей кредитования в столбце ['purpose']\n",
    "data['purpose'].unique()\n",
    "\n",
    "# создаю функцию по распределению целей на категории \n",
    "def categorize_purpose(purpose):\n",
    "    if 'авто' in purpose:\n",
    "        return 'операции с автомобилем'\n",
    "    elif 'недвиж' in purpose or 'жил' in purpose:\n",
    "        return 'операции с недвижимостью'\n",
    "    elif 'свад' in purpose:\n",
    "        return 'проведение свадьбы'\n",
    "    elif 'образов' in purpose:\n",
    "        return 'получение образования'\n",
    "    return 'другое'\n",
    "\n",
    "# создаю дополнительный столбец в таблице с категорией заёмов заёмщиков\n",
    "data['purpose_category'] = data['purpose'].apply(categorize_purpose) \n",
    "\n",
    "data.reset_index(drop = True)"
   ]
  },
  {
   "cell_type": "code",
   "execution_count": 91,
   "id": "7fcff25e",
   "metadata": {
    "deletable": false,
    "id": "7fcff25e"
   },
   "outputs": [],
   "source": [
    "# создаю функцию для присвоения категории заёмщикам по наличию детей и просрочек\n",
    "\n",
    "def categorize_debt(children, debt):\n",
    "    try:\n",
    "        if children >0 and debt ==1:\n",
    "            return 'есть дети и есть просрочки'\n",
    "        elif children >0 and debt ==0:\n",
    "            return 'есть дети и нет просрочек'\n",
    "        elif children ==0 and debt ==1:\n",
    "            return 'нет детей и есть просрочки'\n",
    "        elif children ==0 and debt ==0:\n",
    "            return 'нет детей и нет просрочек'\n",
    "    except:\n",
    "        return 'нет категории'"
   ]
  },
  {
   "cell_type": "code",
   "execution_count": 92,
   "id": "1602093d",
   "metadata": {
    "scrolled": true
   },
   "outputs": [
    {
     "data": {
      "text/html": [
       "<div>\n",
       "<style scoped>\n",
       "    .dataframe tbody tr th:only-of-type {\n",
       "        vertical-align: middle;\n",
       "    }\n",
       "\n",
       "    .dataframe tbody tr th {\n",
       "        vertical-align: top;\n",
       "    }\n",
       "\n",
       "    .dataframe thead th {\n",
       "        text-align: right;\n",
       "    }\n",
       "</style>\n",
       "<table border=\"1\" class=\"dataframe\">\n",
       "  <thead>\n",
       "    <tr style=\"text-align: right;\">\n",
       "      <th></th>\n",
       "      <th>children</th>\n",
       "      <th>days_employed</th>\n",
       "      <th>dob_years</th>\n",
       "      <th>education</th>\n",
       "      <th>education_id</th>\n",
       "      <th>family_status</th>\n",
       "      <th>family_status_id</th>\n",
       "      <th>gender</th>\n",
       "      <th>income_type</th>\n",
       "      <th>debt</th>\n",
       "      <th>total_income</th>\n",
       "      <th>purpose</th>\n",
       "      <th>total_income_category</th>\n",
       "      <th>purpose_category</th>\n",
       "      <th>categorize_debt</th>\n",
       "    </tr>\n",
       "  </thead>\n",
       "  <tbody>\n",
       "    <tr>\n",
       "      <th>0</th>\n",
       "      <td>1</td>\n",
       "      <td>8437.673028</td>\n",
       "      <td>42</td>\n",
       "      <td>высшее</td>\n",
       "      <td>0</td>\n",
       "      <td>женат / замужем</td>\n",
       "      <td>0</td>\n",
       "      <td>F</td>\n",
       "      <td>сотрудник</td>\n",
       "      <td>0</td>\n",
       "      <td>253875</td>\n",
       "      <td>покупка жилья</td>\n",
       "      <td>B</td>\n",
       "      <td>операции с недвижимостью</td>\n",
       "      <td>есть дети и нет просрочек</td>\n",
       "    </tr>\n",
       "    <tr>\n",
       "      <th>1</th>\n",
       "      <td>1</td>\n",
       "      <td>4024.803754</td>\n",
       "      <td>36</td>\n",
       "      <td>среднее</td>\n",
       "      <td>1</td>\n",
       "      <td>женат / замужем</td>\n",
       "      <td>0</td>\n",
       "      <td>F</td>\n",
       "      <td>сотрудник</td>\n",
       "      <td>0</td>\n",
       "      <td>112080</td>\n",
       "      <td>приобретение автомобиля</td>\n",
       "      <td>C</td>\n",
       "      <td>операции с автомобилем</td>\n",
       "      <td>есть дети и нет просрочек</td>\n",
       "    </tr>\n",
       "    <tr>\n",
       "      <th>2</th>\n",
       "      <td>0</td>\n",
       "      <td>5623.422610</td>\n",
       "      <td>33</td>\n",
       "      <td>среднее</td>\n",
       "      <td>1</td>\n",
       "      <td>женат / замужем</td>\n",
       "      <td>0</td>\n",
       "      <td>M</td>\n",
       "      <td>сотрудник</td>\n",
       "      <td>0</td>\n",
       "      <td>145885</td>\n",
       "      <td>покупка жилья</td>\n",
       "      <td>C</td>\n",
       "      <td>операции с недвижимостью</td>\n",
       "      <td>нет детей и нет просрочек</td>\n",
       "    </tr>\n",
       "    <tr>\n",
       "      <th>3</th>\n",
       "      <td>3</td>\n",
       "      <td>4124.747207</td>\n",
       "      <td>32</td>\n",
       "      <td>среднее</td>\n",
       "      <td>1</td>\n",
       "      <td>женат / замужем</td>\n",
       "      <td>0</td>\n",
       "      <td>M</td>\n",
       "      <td>сотрудник</td>\n",
       "      <td>0</td>\n",
       "      <td>267628</td>\n",
       "      <td>дополнительное образование</td>\n",
       "      <td>B</td>\n",
       "      <td>получение образования</td>\n",
       "      <td>есть дети и нет просрочек</td>\n",
       "    </tr>\n",
       "    <tr>\n",
       "      <th>4</th>\n",
       "      <td>0</td>\n",
       "      <td>340266.072047</td>\n",
       "      <td>53</td>\n",
       "      <td>среднее</td>\n",
       "      <td>1</td>\n",
       "      <td>гражданский брак</td>\n",
       "      <td>1</td>\n",
       "      <td>F</td>\n",
       "      <td>пенсионер</td>\n",
       "      <td>0</td>\n",
       "      <td>158616</td>\n",
       "      <td>сыграть свадьбу</td>\n",
       "      <td>C</td>\n",
       "      <td>проведение свадьбы</td>\n",
       "      <td>нет детей и нет просрочек</td>\n",
       "    </tr>\n",
       "    <tr>\n",
       "      <th>5</th>\n",
       "      <td>0</td>\n",
       "      <td>926.185831</td>\n",
       "      <td>27</td>\n",
       "      <td>высшее</td>\n",
       "      <td>0</td>\n",
       "      <td>гражданский брак</td>\n",
       "      <td>1</td>\n",
       "      <td>M</td>\n",
       "      <td>компаньон</td>\n",
       "      <td>0</td>\n",
       "      <td>255763</td>\n",
       "      <td>покупка жилья</td>\n",
       "      <td>B</td>\n",
       "      <td>операции с недвижимостью</td>\n",
       "      <td>нет детей и нет просрочек</td>\n",
       "    </tr>\n",
       "    <tr>\n",
       "      <th>6</th>\n",
       "      <td>0</td>\n",
       "      <td>2879.202052</td>\n",
       "      <td>43</td>\n",
       "      <td>высшее</td>\n",
       "      <td>0</td>\n",
       "      <td>женат / замужем</td>\n",
       "      <td>0</td>\n",
       "      <td>F</td>\n",
       "      <td>компаньон</td>\n",
       "      <td>0</td>\n",
       "      <td>240525</td>\n",
       "      <td>операции с жильем</td>\n",
       "      <td>B</td>\n",
       "      <td>операции с недвижимостью</td>\n",
       "      <td>нет детей и нет просрочек</td>\n",
       "    </tr>\n",
       "    <tr>\n",
       "      <th>7</th>\n",
       "      <td>0</td>\n",
       "      <td>152.779569</td>\n",
       "      <td>50</td>\n",
       "      <td>среднее</td>\n",
       "      <td>1</td>\n",
       "      <td>женат / замужем</td>\n",
       "      <td>0</td>\n",
       "      <td>M</td>\n",
       "      <td>сотрудник</td>\n",
       "      <td>0</td>\n",
       "      <td>135823</td>\n",
       "      <td>образование</td>\n",
       "      <td>C</td>\n",
       "      <td>получение образования</td>\n",
       "      <td>нет детей и нет просрочек</td>\n",
       "    </tr>\n",
       "    <tr>\n",
       "      <th>8</th>\n",
       "      <td>2</td>\n",
       "      <td>6929.865299</td>\n",
       "      <td>35</td>\n",
       "      <td>высшее</td>\n",
       "      <td>0</td>\n",
       "      <td>гражданский брак</td>\n",
       "      <td>1</td>\n",
       "      <td>F</td>\n",
       "      <td>сотрудник</td>\n",
       "      <td>0</td>\n",
       "      <td>95856</td>\n",
       "      <td>на проведение свадьбы</td>\n",
       "      <td>C</td>\n",
       "      <td>проведение свадьбы</td>\n",
       "      <td>есть дети и нет просрочек</td>\n",
       "    </tr>\n",
       "    <tr>\n",
       "      <th>9</th>\n",
       "      <td>0</td>\n",
       "      <td>2188.756445</td>\n",
       "      <td>41</td>\n",
       "      <td>среднее</td>\n",
       "      <td>1</td>\n",
       "      <td>женат / замужем</td>\n",
       "      <td>0</td>\n",
       "      <td>M</td>\n",
       "      <td>сотрудник</td>\n",
       "      <td>0</td>\n",
       "      <td>144425</td>\n",
       "      <td>покупка жилья для семьи</td>\n",
       "      <td>C</td>\n",
       "      <td>операции с недвижимостью</td>\n",
       "      <td>нет детей и нет просрочек</td>\n",
       "    </tr>\n",
       "  </tbody>\n",
       "</table>\n",
       "</div>"
      ],
      "text/plain": [
       "   children  days_employed  dob_years education  education_id  \\\n",
       "0         1    8437.673028         42    высшее             0   \n",
       "1         1    4024.803754         36   среднее             1   \n",
       "2         0    5623.422610         33   среднее             1   \n",
       "3         3    4124.747207         32   среднее             1   \n",
       "4         0  340266.072047         53   среднее             1   \n",
       "5         0     926.185831         27    высшее             0   \n",
       "6         0    2879.202052         43    высшее             0   \n",
       "7         0     152.779569         50   среднее             1   \n",
       "8         2    6929.865299         35    высшее             0   \n",
       "9         0    2188.756445         41   среднее             1   \n",
       "\n",
       "      family_status  family_status_id gender income_type  debt  total_income  \\\n",
       "0   женат / замужем                 0      F   сотрудник     0        253875   \n",
       "1   женат / замужем                 0      F   сотрудник     0        112080   \n",
       "2   женат / замужем                 0      M   сотрудник     0        145885   \n",
       "3   женат / замужем                 0      M   сотрудник     0        267628   \n",
       "4  гражданский брак                 1      F   пенсионер     0        158616   \n",
       "5  гражданский брак                 1      M   компаньон     0        255763   \n",
       "6   женат / замужем                 0      F   компаньон     0        240525   \n",
       "7   женат / замужем                 0      M   сотрудник     0        135823   \n",
       "8  гражданский брак                 1      F   сотрудник     0         95856   \n",
       "9   женат / замужем                 0      M   сотрудник     0        144425   \n",
       "\n",
       "                      purpose total_income_category          purpose_category  \\\n",
       "0               покупка жилья                     B  операции с недвижимостью   \n",
       "1     приобретение автомобиля                     C    операции с автомобилем   \n",
       "2               покупка жилья                     C  операции с недвижимостью   \n",
       "3  дополнительное образование                     B     получение образования   \n",
       "4             сыграть свадьбу                     C        проведение свадьбы   \n",
       "5               покупка жилья                     B  операции с недвижимостью   \n",
       "6           операции с жильем                     B  операции с недвижимостью   \n",
       "7                 образование                     C     получение образования   \n",
       "8       на проведение свадьбы                     C        проведение свадьбы   \n",
       "9     покупка жилья для семьи                     C  операции с недвижимостью   \n",
       "\n",
       "             categorize_debt  \n",
       "0  есть дети и нет просрочек  \n",
       "1  есть дети и нет просрочек  \n",
       "2  нет детей и нет просрочек  \n",
       "3  есть дети и нет просрочек  \n",
       "4  нет детей и нет просрочек  \n",
       "5  нет детей и нет просрочек  \n",
       "6  нет детей и нет просрочек  \n",
       "7  нет детей и нет просрочек  \n",
       "8  есть дети и нет просрочек  \n",
       "9  нет детей и нет просрочек  "
      ]
     },
     "execution_count": 92,
     "metadata": {},
     "output_type": "execute_result"
    }
   ],
   "source": [
    "# применяю функцию с созданием нового столбца\n",
    "\n",
    "data['categorize_debt'] = data.apply(lambda data: categorize_debt(data['children'], data['debt']), axis=1)\n",
    "data.head(10)"
   ]
  },
  {
   "cell_type": "code",
   "execution_count": 93,
   "id": "54632971",
   "metadata": {},
   "outputs": [],
   "source": [
    "#количество всех заемщиков\n",
    "summary = data.shape[0]\n",
    "\n",
    "#количество всех заемщиков по категориями\n",
    "summary_debtors = data.groupby('children')['children'].count()\n",
    "summary_debtors = summary_debtors.rename('Всего заёмщиков, чел')\n",
    "\n",
    "#количество заёмщиков с просрочками; делаю через вычитание, чтобы сохранить индексацию строк для построения датафрейма\n",
    "hadnot_debt = data[data['debt']==0].groupby('children')['children'].count()\n",
    "had_debt = summary_debtors - hadnot_debt\n",
    "had_debt = had_debt.rename('Имеют просрочки, чел')\n",
    "\n",
    "# подсчёт процентного соотношения заемщиков с просрочками к общему количеству всех заёмщиков по категориям\n",
    "ratio_debtors = had_debt / summary_debtors * 100\n",
    "ratio_debtors = ratio_debtors.rename('Всего просрочек, %')\n",
    "\n",
    "# подсчёт процентного соотношения заемщиков с просрочками к общему количеству всех заёмщиков\n",
    "ratio_debting = had_debt / summary * 100\n",
    "ratio_debting = ratio_debting.rename('Просрочки среди всех заёмщиков, %')\n",
    "\n",
    "# процентное соотношение всех просрочников по категориям\n",
    "ratio_debting_total = ratio_debting / ratio_debtors * 100\n",
    "ratio_debting_total = ratio_debting_total.rename('Отношение просрочек, %')"
   ]
  },
  {
   "cell_type": "code",
   "execution_count": 94,
   "id": "a6f8364f",
   "metadata": {},
   "outputs": [
    {
     "data": {
      "text/html": [
       "<div>\n",
       "<style scoped>\n",
       "    .dataframe tbody tr th:only-of-type {\n",
       "        vertical-align: middle;\n",
       "    }\n",
       "\n",
       "    .dataframe tbody tr th {\n",
       "        vertical-align: top;\n",
       "    }\n",
       "\n",
       "    .dataframe thead th {\n",
       "        text-align: right;\n",
       "    }\n",
       "</style>\n",
       "<table border=\"1\" class=\"dataframe\">\n",
       "  <thead>\n",
       "    <tr style=\"text-align: right;\">\n",
       "      <th></th>\n",
       "      <th></th>\n",
       "      <th></th>\n",
       "      <th></th>\n",
       "      <th></th>\n",
       "      <th>0</th>\n",
       "    </tr>\n",
       "    <tr>\n",
       "      <th>Всего заёмщиков, чел</th>\n",
       "      <th>Имеют просрочки, чел</th>\n",
       "      <th>Всего просрочек, %</th>\n",
       "      <th>Просрочки среди всех заёмщиков, %</th>\n",
       "      <th>Отношение просрочек, %</th>\n",
       "      <th></th>\n",
       "    </tr>\n",
       "  </thead>\n",
       "  <tbody>\n",
       "    <tr>\n",
       "      <th>14091</th>\n",
       "      <th>1063</th>\n",
       "      <th>7.543822</th>\n",
       "      <th>4.983358</th>\n",
       "      <th>66.058788</th>\n",
       "      <td>0</td>\n",
       "    </tr>\n",
       "    <tr>\n",
       "      <th>4808</th>\n",
       "      <th>444</th>\n",
       "      <th>9.234609</th>\n",
       "      <th>2.081478</th>\n",
       "      <th>22.539965</th>\n",
       "      <td>1</td>\n",
       "    </tr>\n",
       "    <tr>\n",
       "      <th>2052</th>\n",
       "      <th>194</th>\n",
       "      <th>9.454191</th>\n",
       "      <th>0.909474</th>\n",
       "      <th>9.619802</th>\n",
       "      <td>2</td>\n",
       "    </tr>\n",
       "    <tr>\n",
       "      <th>330</th>\n",
       "      <th>27</th>\n",
       "      <th>8.181818</th>\n",
       "      <th>0.126576</th>\n",
       "      <th>1.547044</th>\n",
       "      <td>3</td>\n",
       "    </tr>\n",
       "    <tr>\n",
       "      <th>41</th>\n",
       "      <th>4</th>\n",
       "      <th>9.756098</th>\n",
       "      <th>0.018752</th>\n",
       "      <th>0.192209</th>\n",
       "      <td>4</td>\n",
       "    </tr>\n",
       "    <tr>\n",
       "      <th>9</th>\n",
       "      <th>0</th>\n",
       "      <th>0.000000</th>\n",
       "      <th>0.000000</th>\n",
       "      <th>NaN</th>\n",
       "      <td>5</td>\n",
       "    </tr>\n",
       "  </tbody>\n",
       "</table>\n",
       "</div>"
      ],
      "text/plain": [
       "                                                                                                                       0\n",
       "Всего заёмщиков, чел Имеют просрочки, чел Всего просрочек, % Просрочки среди всех заёмщиков, % Отношение просрочек, %   \n",
       "14091                1063                 7.543822           4.983358                          66.058788               0\n",
       "4808                 444                  9.234609           2.081478                          22.539965               1\n",
       "2052                 194                  9.454191           0.909474                          9.619802                2\n",
       "330                  27                   8.181818           0.126576                          1.547044                3\n",
       "41                   4                    9.756098           0.018752                          0.192209                4\n",
       "9                    0                    0.000000           0.000000                          NaN                     5"
      ]
     },
     "execution_count": 94,
     "metadata": {},
     "output_type": "execute_result"
    }
   ],
   "source": [
    "# делаю датафрейм новый\n",
    "\n",
    "index = [ 0, 1, 2, 3, 4, 5] \n",
    "columns = [summary_debtors, had_debt, ratio_debtors, ratio_debting, ratio_debting_total]\n",
    "pivot = pd.DataFrame(index, columns)\n",
    "pivot"
   ]
  },
  {
   "cell_type": "code",
   "execution_count": 136,
   "id": "79d6c25a",
   "metadata": {},
   "outputs": [
    {
     "data": {
      "text/html": [
       "<div>\n",
       "<style scoped>\n",
       "    .dataframe tbody tr th:only-of-type {\n",
       "        vertical-align: middle;\n",
       "    }\n",
       "\n",
       "    .dataframe tbody tr th {\n",
       "        vertical-align: top;\n",
       "    }\n",
       "\n",
       "    .dataframe thead th {\n",
       "        text-align: right;\n",
       "    }\n",
       "</style>\n",
       "<table border=\"1\" class=\"dataframe\">\n",
       "  <thead>\n",
       "    <tr style=\"text-align: right;\">\n",
       "      <th></th>\n",
       "      <th>count</th>\n",
       "      <th>mean</th>\n",
       "      <th>sum</th>\n",
       "    </tr>\n",
       "    <tr>\n",
       "      <th>children</th>\n",
       "      <th></th>\n",
       "      <th></th>\n",
       "      <th></th>\n",
       "    </tr>\n",
       "  </thead>\n",
       "  <tbody>\n",
       "    <tr>\n",
       "      <th>0</th>\n",
       "      <td>14091.0</td>\n",
       "      <td>0.075438</td>\n",
       "      <td>1063.0</td>\n",
       "    </tr>\n",
       "    <tr>\n",
       "      <th>1</th>\n",
       "      <td>4808.0</td>\n",
       "      <td>0.092346</td>\n",
       "      <td>444.0</td>\n",
       "    </tr>\n",
       "    <tr>\n",
       "      <th>2</th>\n",
       "      <td>2052.0</td>\n",
       "      <td>0.094542</td>\n",
       "      <td>194.0</td>\n",
       "    </tr>\n",
       "    <tr>\n",
       "      <th>3</th>\n",
       "      <td>330.0</td>\n",
       "      <td>0.081818</td>\n",
       "      <td>27.0</td>\n",
       "    </tr>\n",
       "    <tr>\n",
       "      <th>4</th>\n",
       "      <td>41.0</td>\n",
       "      <td>0.097561</td>\n",
       "      <td>4.0</td>\n",
       "    </tr>\n",
       "    <tr>\n",
       "      <th>5</th>\n",
       "      <td>9.0</td>\n",
       "      <td>0.000000</td>\n",
       "      <td>0.0</td>\n",
       "    </tr>\n",
       "  </tbody>\n",
       "</table>\n",
       "</div>"
      ],
      "text/plain": [
       "            count      mean     sum\n",
       "children                           \n",
       "0         14091.0  0.075438  1063.0\n",
       "1          4808.0  0.092346   444.0\n",
       "2          2052.0  0.094542   194.0\n",
       "3           330.0  0.081818    27.0\n",
       "4            41.0  0.097561     4.0\n",
       "5             9.0  0.000000     0.0"
      ]
     },
     "execution_count": 136,
     "metadata": {},
     "output_type": "execute_result"
    }
   ],
   "source": [
    "# делаю сводную таблицу\n",
    "data_pivot = data.pivot_table(index = ['children'], values = 'debt', aggfunc = {'sum', 'count', 'mean'})\n",
    "data_pivot"
   ]
  },
  {
   "cell_type": "markdown",
   "id": "10e003fc",
   "metadata": {},
   "source": [
    "\n",
    "<div class=\"alert alert-block alert-info\">\n",
    "Мне такой вывод не кажется очень информативным, потому что всё равно надо дополнительно переименовывать столбцы, \n",
    "переводить долю кредиторов в проценты, потому что, например 0,09 это какое-то абстрактное, трудноосязаемое заказчику число. \n",
    "9% понятнее. Пока не придумала как сделать это проще\n",
    "            </div>"
   ]
  },
  {
   "cell_type": "markdown",
   "id": "d6bc688d",
   "metadata": {},
   "source": [
    "<div class=\"alert alert-block alert-success\">\n",
    "<b>Комментарий ревьюера_V2:</b>\n",
    "\n",
    "✔️ Кому как удобней, в любом случае нужно знать все методы)) \n",
    "\n",
    "    \n",
    "    \n",
    "  </div>"
   ]
  },
  {
   "cell_type": "markdown",
   "id": "a5cb7c67",
   "metadata": {},
   "source": [
    "<div class=\"alert alert-block alert-success\">\n",
    "<b>Комментарий ревьюера:</b>\n",
    "\n",
    "✔️ Отличная работа, в части вывода информации в таблице)) Единственное можно было бы опттмизировать следующим образом: \n",
    "    \n",
    "       data_pivot = data.pivot_table(index = ['children'], values = 'debt', aggfunc = {'sum', 'count', 'mean'})\n",
    "\n",
    "'mean' это доля кредиторов. <br>\n",
    "\n",
    "    \n",
    "    \n",
    "  </div>"
   ]
  },
  {
   "cell_type": "markdown",
   "id": "07b61832",
   "metadata": {
    "deletable": false,
    "id": "2eb9088e"
   },
   "source": [
    "**Вывод**\n",
    "\n",
    "Самый низкий процент просрочек среди заёмщиков без детей, всего 7,5%. \n",
    "Самый высокий процент просрочек среди заёмщиков с одним ребёнком (9,2%) и двумя детьми (9,4%).\n",
    "Для остальных категорий выборка слишком маленькая, процент просрочек не показателен. \n"
   ]
  },
  {
   "cell_type": "markdown",
   "id": "6145d546",
   "metadata": {},
   "source": [
    "<div class=\"alert alert-block alert-warning\">\n",
    "<b>Комментарий ревьюер:</b> \n",
    "\n",
    "⚠️ Не бойся использовать в выводах цифры, также нужно сделать акцент на сбалансированности выборок. Примерно выводы будут выглядеть так: \n",
    "`люди, которые не имеют детей, лучше всего отдают кредит, доля должников здесь составляет с 7,5%, хуже обстоит дело с кредиторами, кто имеет одного или двух детей, здесь доля невозврата составляет соответственно 9,2% и 9,4%. Остальные категории уже некорректно сравнивать, так как в них очень маленькая выборка`)) <br>"
   ]
  },
  {
   "cell_type": "markdown",
   "id": "c66bd8b8",
   "metadata": {},
   "source": [
    "<div class=\"alert alert-block alert-success\">\n",
    "<b>Комментарий ревьюера_V2:</b>\n",
    "\n",
    "✔️ Над выводами поработал хорошо, молодец)) \n",
    "    \n",
    "    \n",
    "  </div>"
   ]
  },
  {
   "cell_type": "markdown",
   "id": "74c9b3a7",
   "metadata": {
    "deletable": false,
    "editable": false,
    "id": "74c9b3a7"
   },
   "source": [
    "#### 3.2 Есть ли зависимость между семейным положением и возвратом кредита в срок?"
   ]
  },
  {
   "cell_type": "code",
   "execution_count": 145,
   "id": "8098ab3b",
   "metadata": {
    "deletable": false,
    "id": "8098ab3b"
   },
   "outputs": [],
   "source": [
    "# Ваш код будет здесь. Вы можете создавать новые ячейки.\n",
    "\n",
    "#количество всех заемщиков\n",
    "summary = data.shape[0]\n",
    "\n",
    "#количество всех заемщиков по категориями\n",
    "summary_debtors = data.groupby('family_status')['family_status'].count()\n",
    "summary_debtors = summary_debtors.rename('Всего заёмщиков, чел')\n",
    "\n",
    "#количество заёмщиков с просрочками; делаю через вычитание, чтобы сохранить индексацию строк для построения датафрейма\n",
    "hadnot_debt = data[data['debt']==0].groupby('family_status')['family_status'].count()\n",
    "had_debt = summary_debtors - hadnot_debt\n",
    "had_debt = had_debt.rename('Имеют просрочки, чел')\n",
    "\n",
    "# подсчёт процентного соотношения заемщиков с просрочками к общему количеству всех заёмщиков по категориям\n",
    "ratio_debtors = had_debt / summary_debtors * 100\n",
    "ratio_debtors = ratio_debtors.rename('Всего просрочек, %')\n",
    "\n",
    "# подсчёт процентного соотношения заемщиков с просрочками к общему количеству всех заёмщиков\n",
    "ratio_debting = had_debt / summary * 100\n",
    "ratio_debting = ratio_debting.rename('Просрочки среди всех заёмщиков, %')\n",
    "\n",
    "# процентное соотношение всех просрочников по категориям\n",
    "ratio_debting_total = ratio_debting / ratio_debtors * 100\n",
    "ratio_debting_total = ratio_debting_total.rename('Отношение просрочек, %')\n"
   ]
  },
  {
   "cell_type": "code",
   "execution_count": 146,
   "id": "767ce726",
   "metadata": {},
   "outputs": [
    {
     "data": {
      "text/plain": [
       "40.3268863752638"
      ]
     },
     "execution_count": 146,
     "metadata": {},
     "output_type": "execute_result"
    }
   ],
   "source": [
    "ratio_debtors.sum()"
   ]
  },
  {
   "cell_type": "code",
   "execution_count": 156,
   "id": "59407e23",
   "metadata": {},
   "outputs": [
    {
     "data": {
      "text/html": [
       "<div>\n",
       "<style scoped>\n",
       "    .dataframe tbody tr th:only-of-type {\n",
       "        vertical-align: middle;\n",
       "    }\n",
       "\n",
       "    .dataframe tbody tr th {\n",
       "        vertical-align: top;\n",
       "    }\n",
       "\n",
       "    .dataframe thead th {\n",
       "        text-align: right;\n",
       "    }\n",
       "</style>\n",
       "<table border=\"1\" class=\"dataframe\">\n",
       "  <thead>\n",
       "    <tr style=\"text-align: right;\">\n",
       "      <th></th>\n",
       "      <th></th>\n",
       "      <th></th>\n",
       "      <th></th>\n",
       "      <th></th>\n",
       "      <th>0</th>\n",
       "    </tr>\n",
       "    <tr>\n",
       "      <th>Всего заёмщиков, чел</th>\n",
       "      <th>Имеют просрочки, чел</th>\n",
       "      <th>Всего просрочек, %</th>\n",
       "      <th>Просрочки среди всех заёмщиков, %</th>\n",
       "      <th>Отношение просрочек, %</th>\n",
       "      <th></th>\n",
       "    </tr>\n",
       "  </thead>\n",
       "  <tbody>\n",
       "    <tr>\n",
       "      <th>12261</th>\n",
       "      <th>927</th>\n",
       "      <th>7.560558</th>\n",
       "      <th>4.345788</th>\n",
       "      <th>57.479724</th>\n",
       "      <td>женат / замужем</td>\n",
       "    </tr>\n",
       "    <tr>\n",
       "      <th>4134</th>\n",
       "      <th>385</th>\n",
       "      <th>9.313014</th>\n",
       "      <th>1.804885</th>\n",
       "      <th>19.380245</th>\n",
       "      <td>гражданский брак</td>\n",
       "    </tr>\n",
       "    <tr>\n",
       "      <th>2796</th>\n",
       "      <th>273</th>\n",
       "      <th>9.763948</th>\n",
       "      <th>1.279827</th>\n",
       "      <th>13.107684</th>\n",
       "      <td>Не женат / не замужем</td>\n",
       "    </tr>\n",
       "    <tr>\n",
       "      <th>1189</th>\n",
       "      <th>84</th>\n",
       "      <th>7.064760</th>\n",
       "      <th>0.393793</th>\n",
       "      <th>5.574047</th>\n",
       "      <td>в разводе</td>\n",
       "    </tr>\n",
       "    <tr>\n",
       "      <th>951</th>\n",
       "      <th>63</th>\n",
       "      <th>6.624606</th>\n",
       "      <th>0.295345</th>\n",
       "      <th>4.458300</th>\n",
       "      <td>вдовец / вдова</td>\n",
       "    </tr>\n",
       "  </tbody>\n",
       "</table>\n",
       "</div>"
      ],
      "text/plain": [
       "                                                                                                                                           0\n",
       "Всего заёмщиков, чел Имеют просрочки, чел Всего просрочек, % Просрочки среди всех заёмщиков, % Отношение просрочек, %                       \n",
       "12261                927                  7.560558           4.345788                          57.479724                     женат / замужем\n",
       "4134                 385                  9.313014           1.804885                          19.380245                    гражданский брак\n",
       "2796                 273                  9.763948           1.279827                          13.107684               Не женат / не замужем\n",
       "1189                 84                   7.064760           0.393793                          5.574047                            в разводе\n",
       "951                  63                   6.624606           0.295345                          4.458300                       вдовец / вдова"
      ]
     },
     "execution_count": 156,
     "metadata": {},
     "output_type": "execute_result"
    }
   ],
   "source": [
    "# делаю датафрейм новый\n",
    "\n",
    "index = [ 'Не женат / не замужем', 'в разводе', 'вдовец / вдова', 'гражданский брак', 'женат / замужем'] \n",
    "columns = [summary_debtors, had_debt, ratio_debtors, ratio_debting, ratio_debting_total]\n",
    "pivot = pd.DataFrame(index, columns)\n",
    "pivot.sort_values(by='Всего заёмщиков, чел', ascending=False)"
   ]
  },
  {
   "cell_type": "markdown",
   "id": "c389ca63",
   "metadata": {
    "deletable": false,
    "id": "c389ca63"
   },
   "source": [
    "**Вывод:** \n",
    "\n",
    "9% просрочек среди неженатых и живущих гражданским браком, 6% среди вдовствующих граждан. \n",
    "Самая платёжеспособная категория заёмщиков состоят в официальном браке. Среди них просрочек всего 7,5%"
   ]
  },
  {
   "cell_type": "markdown",
   "id": "be015c8d",
   "metadata": {},
   "source": [
    "<div class=\"alert alert-block alert-warning\">\n",
    "<b>Комментарий ревьюер:</b> \n",
    "\n",
    "⚠️ Удели здесь внимание тоже сбалансированности выборок, по большому счету здесь можно сравнивать только три группы))"
   ]
  },
  {
   "cell_type": "markdown",
   "id": "8799840a",
   "metadata": {},
   "source": [
    "\n",
    "<div class=\"alert alert-block alert-info\">\n",
    "Может быть имеет смысл объединить группу вдовствующих и в разводе в категорию \"состоял в браке\"? В них примерно одинаковое количество людей, можно сказать даже, что с похожим матриальным состоянием (раздел общего имущества или наследство), которые имеют самый низкий процент. При этом по численности будет такой же как не женат/не замужем. \n",
    "            </div>"
   ]
  },
  {
   "cell_type": "markdown",
   "id": "1b398e80",
   "metadata": {},
   "source": [
    "<div class=\"alert alert-block alert-success\">\n",
    "<b>Комментарий ревьюера_V2:</b>\n",
    "\n",
    "✔️ Ты как исследователь, можешь изучать любые взаимосвязи, здесь нет никаких препятствий, такое объединение возможно)) \n",
    "    \n",
    "    \n",
    "  </div>"
   ]
  },
  {
   "cell_type": "markdown",
   "id": "9529de68",
   "metadata": {
    "deletable": false,
    "editable": false,
    "id": "9529de68"
   },
   "source": [
    "#### 3.3 Есть ли зависимость между уровнем дохода и возвратом кредита в срок?"
   ]
  },
  {
   "cell_type": "code",
   "execution_count": 157,
   "id": "8787f44a",
   "metadata": {
    "deletable": false,
    "id": "8787f44a"
   },
   "outputs": [],
   "source": [
    "# Ваш код будет здесь. Вы можете создавать новые ячейки.\n",
    "\n",
    "\n",
    "#количество всех заемщиков\n",
    "summary = data.shape[0]\n",
    "\n",
    "#количество всех заемщиков по категориями\n",
    "summary_debtors = data.groupby('total_income_category')['total_income_category'].count()\n",
    "summary_debtors = summary_debtors.rename('Всего заёмщиков, чел')\n",
    "\n",
    "#количество заёмщиков с просрочками; делаю через вычитание, чтобы сохранить индексацию строк для построения датафрейма\n",
    "hadnot_debt = data[data['debt']==0].groupby('total_income_category')['total_income_category'].count()\n",
    "had_debt = summary_debtors - hadnot_debt\n",
    "had_debt = had_debt.rename('Имеют просрочки, чел')\n",
    "\n",
    "# подсчёт процентного соотношения заемщиков с просрочками к общему количеству всех заёмщиков по категориям\n",
    "ratio_debtors = had_debt / summary_debtors * 100\n",
    "ratio_debtors = ratio_debtors.rename('Всего просрочек, %')\n",
    "\n",
    "# подсчёт процентного соотношения заемщиков с просрочками к общему количеству всех заёмщиков\n",
    "ratio_debting = had_debt / summary * 100\n",
    "ratio_debting = ratio_debting.rename('Просрочки среди всех заёмщиков, %')\n",
    "\n",
    "# процентное соотношение всех просрочников по категориям\n",
    "ratio_debting_total = ratio_debting / ratio_debtors * 100\n",
    "ratio_debting_total = ratio_debting_total.rename('Отношение просрочек, %')"
   ]
  },
  {
   "cell_type": "code",
   "execution_count": 158,
   "id": "466b3664",
   "metadata": {},
   "outputs": [
    {
     "data": {
      "text/html": [
       "<div>\n",
       "<style scoped>\n",
       "    .dataframe tbody tr th:only-of-type {\n",
       "        vertical-align: middle;\n",
       "    }\n",
       "\n",
       "    .dataframe tbody tr th {\n",
       "        vertical-align: top;\n",
       "    }\n",
       "\n",
       "    .dataframe thead th {\n",
       "        text-align: right;\n",
       "    }\n",
       "</style>\n",
       "<table border=\"1\" class=\"dataframe\">\n",
       "  <thead>\n",
       "    <tr style=\"text-align: right;\">\n",
       "      <th></th>\n",
       "      <th></th>\n",
       "      <th></th>\n",
       "      <th></th>\n",
       "      <th></th>\n",
       "      <th>0</th>\n",
       "    </tr>\n",
       "    <tr>\n",
       "      <th>Всего заёмщиков, чел</th>\n",
       "      <th>Имеют просрочки, чел</th>\n",
       "      <th>Всего просрочек, %</th>\n",
       "      <th>Просрочки среди всех заёмщиков, %</th>\n",
       "      <th>Отношение просрочек, %</th>\n",
       "      <th></th>\n",
       "    </tr>\n",
       "  </thead>\n",
       "  <tbody>\n",
       "    <tr>\n",
       "      <th>15921</th>\n",
       "      <th>1353</th>\n",
       "      <th>8.498210</th>\n",
       "      <th>6.342881</th>\n",
       "      <th>74.637851</th>\n",
       "      <td>C</td>\n",
       "    </tr>\n",
       "    <tr>\n",
       "      <th>5014</th>\n",
       "      <th>354</th>\n",
       "      <th>7.060231</th>\n",
       "      <th>1.659557</th>\n",
       "      <th>23.505696</th>\n",
       "      <td>B</td>\n",
       "    </tr>\n",
       "    <tr>\n",
       "      <th>349</th>\n",
       "      <th>21</th>\n",
       "      <th>6.017192</th>\n",
       "      <th>0.098448</th>\n",
       "      <th>1.636116</th>\n",
       "      <td>D</td>\n",
       "    </tr>\n",
       "    <tr>\n",
       "      <th>25</th>\n",
       "      <th>2</th>\n",
       "      <th>8.000000</th>\n",
       "      <th>0.009376</th>\n",
       "      <th>0.117200</th>\n",
       "      <td>A</td>\n",
       "    </tr>\n",
       "    <tr>\n",
       "      <th>22</th>\n",
       "      <th>2</th>\n",
       "      <th>9.090909</th>\n",
       "      <th>0.009376</th>\n",
       "      <th>0.103136</th>\n",
       "      <td>E</td>\n",
       "    </tr>\n",
       "  </tbody>\n",
       "</table>\n",
       "</div>"
      ],
      "text/plain": [
       "                                                                                                                       0\n",
       "Всего заёмщиков, чел Имеют просрочки, чел Всего просрочек, % Просрочки среди всех заёмщиков, % Отношение просрочек, %   \n",
       "15921                1353                 8.498210           6.342881                          74.637851               C\n",
       "5014                 354                  7.060231           1.659557                          23.505696               B\n",
       "349                  21                   6.017192           0.098448                          1.636116                D\n",
       "25                   2                    8.000000           0.009376                          0.117200                A\n",
       "22                   2                    9.090909           0.009376                          0.103136                E"
      ]
     },
     "execution_count": 158,
     "metadata": {},
     "output_type": "execute_result"
    }
   ],
   "source": [
    "# делаю датафрейм новый\n",
    "\n",
    "index = ['A', 'B', 'C', 'D', 'E'] \n",
    "columns = [summary_debtors, had_debt, ratio_debtors, ratio_debting, ratio_debting_total]\n",
    "pivot = pd.DataFrame(index, columns)\n",
    "pivot.sort_values(by='Всего заёмщиков, чел', ascending=False)"
   ]
  },
  {
   "cell_type": "markdown",
   "id": "6dd14b57",
   "metadata": {
    "deletable": false,
    "id": "6dd14b57"
   },
   "source": [
    "**Вывод:** \n",
    "\n",
    "8,5% просрочек среди заёмщиков с доходом от 50 до 200 тысяч. При этом, это 75% всех займов. \n",
    "\n",
    "7% просрочек среди заёмщиков с доходом от 200 до миллиона. При этом, это только 23% всех азаймов.\n",
    " \n",
    "Остальные категории имеют слишком маленькую выборку. \n"
   ]
  },
  {
   "cell_type": "markdown",
   "id": "5f4ee8ff",
   "metadata": {},
   "source": [
    "<div class=\"alert alert-block alert-warning\">\n",
    "<b>Комментарий ревьюер:</b> \n",
    "\n",
    "⚠️ Здесь тоже можно сравнить только две группы B и С <br>"
   ]
  },
  {
   "cell_type": "markdown",
   "id": "b1f1aca3",
   "metadata": {},
   "source": [
    "<div class=\"alert alert-block alert-success\">\n",
    "<b>Комментарий ревьюера_V2:</b>\n",
    "\n",
    "✔️ Две самые большие группы сравнила, молодец)) \n",
    "    \n",
    "    \n",
    "  </div>"
   ]
  },
  {
   "cell_type": "markdown",
   "id": "1dcc9b12",
   "metadata": {
    "deletable": false,
    "editable": false,
    "id": "1dcc9b12"
   },
   "source": [
    "#### 3.4 Как разные цели кредита влияют на его возврат в срок?"
   ]
  },
  {
   "cell_type": "code",
   "execution_count": 108,
   "id": "c602bc8b",
   "metadata": {
    "deletable": false,
    "id": "c602bc8b"
   },
   "outputs": [],
   "source": [
    "# Ваш код будет здесь. Вы можете создавать новые ячейки.\n",
    "\n",
    "#количество всех заемщиков\n",
    "summary = data.shape[0]\n",
    "\n",
    "#количество всех заемщиков по категориями\n",
    "summary_debtors = data.groupby('purpose_category')['purpose_category'].count()\n",
    "summary_debtors = summary_debtors.rename('Всего заёмщиков, чел')\n",
    "\n",
    "#количество заёмщиков с просрочками; делаю через вычитание, чтобы сохранить индексацию строк для построения датафрейма\n",
    "hadnot_debt = data[data['debt']==0].groupby('purpose_category')['purpose_category'].count()\n",
    "had_debt = summary_debtors - hadnot_debt\n",
    "had_debt = had_debt.rename('Имеют просрочки, чел')\n",
    "\n",
    "# подсчёт процентного соотношения заемщиков с просрочками к общему количеству всех заёмщиков по категориям\n",
    "ratio_debtors = had_debt / summary_debtors * 100\n",
    "ratio_debtors = ratio_debtors.rename('Всего просрочек, %')\n",
    "\n",
    "# подсчёт процентного соотношения заемщиков с просрочками к общему количеству всех заёмщиков\n",
    "ratio_debting = had_debt / summary * 100\n",
    "ratio_debting = ratio_debting.rename('Просрочки среди всех заёмщиков, %')\n",
    "\n",
    "# процентное соотношение всех просрочников по категориям\n",
    "ratio_debting_total = ratio_debting / ratio_debtors * 100\n",
    "ratio_debting_total = ratio_debting_total.rename('Отношение просрочек, %')"
   ]
  },
  {
   "cell_type": "code",
   "execution_count": 114,
   "id": "586200c0",
   "metadata": {},
   "outputs": [
    {
     "data": {
      "text/plain": [
       "income_type\n",
       "безработный         0.018603\n",
       "госслужащий         7.004000\n",
       "компаньон          23.541996\n",
       "пенсионер          17.496047\n",
       "предприниматель     0.009301\n",
       "сотрудник          51.920752\n",
       "студент             0.009301\n",
       "Name: income_type, dtype: float64"
      ]
     },
     "execution_count": 114,
     "metadata": {},
     "output_type": "execute_result"
    }
   ],
   "source": [
    "# Количество заёмщиков на операции с недвижимостью по виду деятельности\n",
    "\n",
    "debtors_income_type = data.loc[(data['purpose_category']=='операции с недвижимостью')].groupby('income_type')['income_type'].count()\n",
    "summary_debtors_income_type = debtors_income_type.sum()\n",
    "ratio = debtors_income_type / summary_debtors_income_type * 100\n",
    "ratio\n"
   ]
  },
  {
   "cell_type": "code",
   "execution_count": 111,
   "id": "98dcd932",
   "metadata": {},
   "outputs": [
    {
     "data": {
      "text/plain": [
       "total_income_category\n",
       "A     0.158125\n",
       "B    23.793136\n",
       "C    74.383778\n",
       "D     1.562645\n",
       "E     0.102316\n",
       "Name: total_income_category, dtype: float64"
      ]
     },
     "execution_count": 111,
     "metadata": {},
     "output_type": "execute_result"
    }
   ],
   "source": [
    "# Количество заёмщиков на операции с недвижимостью по категории дохода\n",
    "\n",
    "debtors_income = data.loc[(data['purpose_category']=='операции с недвижимостью')].groupby('total_income_category')['total_income_category'].count()\n",
    "summary_debtors_income = debtors_income.sum()\n",
    "ratio = debtors_income / summary_debtors_income * 100\n",
    "ratio"
   ]
  },
  {
   "cell_type": "code",
   "execution_count": 109,
   "id": "293d0d95",
   "metadata": {},
   "outputs": [
    {
     "data": {
      "text/html": [
       "<div>\n",
       "<style scoped>\n",
       "    .dataframe tbody tr th:only-of-type {\n",
       "        vertical-align: middle;\n",
       "    }\n",
       "\n",
       "    .dataframe tbody tr th {\n",
       "        vertical-align: top;\n",
       "    }\n",
       "\n",
       "    .dataframe thead th {\n",
       "        text-align: right;\n",
       "    }\n",
       "</style>\n",
       "<table border=\"1\" class=\"dataframe\">\n",
       "  <thead>\n",
       "    <tr style=\"text-align: right;\">\n",
       "      <th></th>\n",
       "      <th></th>\n",
       "      <th></th>\n",
       "      <th></th>\n",
       "      <th></th>\n",
       "      <th>0</th>\n",
       "    </tr>\n",
       "    <tr>\n",
       "      <th>Всего заёмщиков, чел</th>\n",
       "      <th>Имеют просрочки, чел</th>\n",
       "      <th>Всего просрочек, %</th>\n",
       "      <th>Просрочки среди всех заёмщиков, %</th>\n",
       "      <th>Отношение просрочек, %</th>\n",
       "      <th></th>\n",
       "    </tr>\n",
       "  </thead>\n",
       "  <tbody>\n",
       "    <tr>\n",
       "      <th>4279</th>\n",
       "      <th>400</th>\n",
       "      <th>9.347978</th>\n",
       "      <th>1.875205</th>\n",
       "      <th>20.060007</th>\n",
       "      <td>операции с автомобилем</td>\n",
       "    </tr>\n",
       "    <tr>\n",
       "      <th>10751</th>\n",
       "      <th>780</th>\n",
       "      <th>7.255139</th>\n",
       "      <th>3.656650</th>\n",
       "      <th>50.400825</th>\n",
       "      <td>операции с недвижимостью</td>\n",
       "    </tr>\n",
       "    <tr>\n",
       "      <th>3988</th>\n",
       "      <th>369</th>\n",
       "      <th>9.252758</th>\n",
       "      <th>1.729877</th>\n",
       "      <th>18.695795</th>\n",
       "      <td>получение образования</td>\n",
       "    </tr>\n",
       "    <tr>\n",
       "      <th>2313</th>\n",
       "      <th>183</th>\n",
       "      <th>7.911803</th>\n",
       "      <th>0.857906</th>\n",
       "      <th>10.843373</th>\n",
       "      <td>проведение свадьбы</td>\n",
       "    </tr>\n",
       "  </tbody>\n",
       "</table>\n",
       "</div>"
      ],
      "text/plain": [
       "                                                                                                                                              0\n",
       "Всего заёмщиков, чел Имеют просрочки, чел Всего просрочек, % Просрочки среди всех заёмщиков, % Отношение просрочек, %                          \n",
       "4279                 400                  9.347978           1.875205                          20.060007                 операции с автомобилем\n",
       "10751                780                  7.255139           3.656650                          50.400825               операции с недвижимостью\n",
       "3988                 369                  9.252758           1.729877                          18.695795                  получение образования\n",
       "2313                 183                  7.911803           0.857906                          10.843373                     проведение свадьбы"
      ]
     },
     "execution_count": 109,
     "metadata": {},
     "output_type": "execute_result"
    }
   ],
   "source": [
    "# делаю датафрейм новый\n",
    "\n",
    "index = [ 'операции с автомобилем', 'операции с недвижимостью', 'получение образования', 'проведение свадьбы'] \n",
    "columns = [summary_debtors, had_debt, ratio_debtors, ratio_debting, ratio_debting_total]\n",
    "pivot = pd.DataFrame(index, columns)\n",
    "pivot"
   ]
  },
  {
   "cell_type": "markdown",
   "id": "cf05ed63",
   "metadata": {
    "deletable": false,
    "id": "cf05ed63"
   },
   "source": [
    "**Вывод:** \n",
    "\n",
    "\n",
    "50% ипотечных займов. Как правило ипотеку берут заёмщики с уверенным уровнем дохода и стабильной зарплатой, так как это долгосрочный крупный займ и требует стабильного финансового положения. Это подтверждают цифры -  98% всех заёмщиков на ипотеку имеют уровень дохода от 50 000 рублей, из них 75% официально трудоустроены в компанях или являются совладельцами бизнеса, просрочек в этой категории меньше всего - 7,25%.\n",
    "\n",
    "По 20 и 18% в категориях операции с автомобилями и получение образования соответственно имеют просрочки по 9%. \n",
    "\n",
    "Меньше всего берут займ на свадьбу, всего 10% и уровень просрочек примерно 8%. \n",
    "\n",
    "\n"
   ]
  },
  {
   "cell_type": "markdown",
   "id": "20f80192",
   "metadata": {},
   "source": [
    "<div class=\"alert alert-block alert-warning\">\n",
    "<b>Комментарий ревьюера:</b> \n",
    "\n",
    "⚠️ Почему по твоему самые надежные кредиторы те, кто берет ипотеку?\n"
   ]
  },
  {
   "cell_type": "markdown",
   "id": "d6f4a032",
   "metadata": {},
   "source": [
    "<div class=\"alert alert-block alert-success\">\n",
    "<b>Комментарий ревьюера_V2:</b>\n",
    "\n",
    "✔️ Все верно, к тому же к ним предъявляются самые жесткие требования)) \n",
    "    \n",
    "    \n",
    "  </div>"
   ]
  },
  {
   "cell_type": "markdown",
   "id": "822d0743",
   "metadata": {},
   "source": [
    "*****************"
   ]
  },
  {
   "cell_type": "markdown",
   "id": "fdd58238",
   "metadata": {},
   "source": [
    "Мой вопрос 1: кто чаще берёт кредиты: мужчины или женщины?"
   ]
  },
  {
   "cell_type": "markdown",
   "id": "e421ed02",
   "metadata": {},
   "source": [
    "<div class=\"alert alert-block alert-danger\">\n",
    "<b>Комментарий ревьюера:</b> \n",
    "\n",
    "❌ Здесь у тебя код ломается(("
   ]
  },
  {
   "cell_type": "markdown",
   "id": "24b6e289",
   "metadata": {},
   "source": [
    "<div class=\"alert alert-block alert-success\">\n",
    "<b>Комментарий ревьюера_V2:</b>\n",
    "\n",
    "✔️ Молодец, что проанализировала данные, не входящие в задание))\n",
    "    \n",
    "    \n",
    "  </div>"
   ]
  },
  {
   "cell_type": "code",
   "execution_count": 36,
   "id": "284aa9fb",
   "metadata": {},
   "outputs": [
    {
     "name": "stdout",
     "output_type": "stream",
     "text": [
      "gender\n",
      "F      14092\n",
      "M       7238\n",
      "XNA        1\n",
      "Name: gender, dtype: int64\n"
     ]
    },
    {
     "data": {
      "text/plain": [
       "1.9469466703509257"
      ]
     },
     "execution_count": 36,
     "metadata": {},
     "output_type": "execute_result"
    }
   ],
   "source": [
    "answer1 = data.groupby('gender')['gender'].count()\n",
    "print(answer1)\n",
    "women = data.loc[data['gender'] =='F'].groupby('gender')['gender'].count()\n",
    "men = data.loc[data['gender'] =='M'].groupby('gender')['gender'].count()\n",
    "ratio = int(women) / int(men)\n",
    "ratio"
   ]
  },
  {
   "cell_type": "markdown",
   "id": "5434f8b1",
   "metadata": {},
   "source": [
    "Ответ: кредиты в два раза чаще берут женщины. "
   ]
  },
  {
   "cell_type": "markdown",
   "id": "ba570e35",
   "metadata": {},
   "source": [
    "Мой вопрос 2: медианные значения у мужчин и у женщин?"
   ]
  },
  {
   "cell_type": "code",
   "execution_count": 17,
   "id": "6654d647",
   "metadata": {},
   "outputs": [
    {
     "data": {
      "text/html": [
       "<div>\n",
       "<style scoped>\n",
       "    .dataframe tbody tr th:only-of-type {\n",
       "        vertical-align: middle;\n",
       "    }\n",
       "\n",
       "    .dataframe tbody tr th {\n",
       "        vertical-align: top;\n",
       "    }\n",
       "\n",
       "    .dataframe thead th {\n",
       "        text-align: right;\n",
       "    }\n",
       "</style>\n",
       "<table border=\"1\" class=\"dataframe\">\n",
       "  <thead>\n",
       "    <tr style=\"text-align: right;\">\n",
       "      <th></th>\n",
       "      <th>children</th>\n",
       "      <th>days_employed</th>\n",
       "      <th>dob_years</th>\n",
       "      <th>education_id</th>\n",
       "      <th>family_status_id</th>\n",
       "      <th>debt</th>\n",
       "      <th>total_income</th>\n",
       "    </tr>\n",
       "    <tr>\n",
       "      <th>gender</th>\n",
       "      <th></th>\n",
       "      <th></th>\n",
       "      <th></th>\n",
       "      <th></th>\n",
       "      <th></th>\n",
       "      <th></th>\n",
       "      <th></th>\n",
       "    </tr>\n",
       "  </thead>\n",
       "  <tbody>\n",
       "    <tr>\n",
       "      <th>F</th>\n",
       "      <td>0.0</td>\n",
       "      <td>2385.547863</td>\n",
       "      <td>44.0</td>\n",
       "      <td>1.0</td>\n",
       "      <td>0.0</td>\n",
       "      <td>0.0</td>\n",
       "      <td>138933.5</td>\n",
       "    </tr>\n",
       "    <tr>\n",
       "      <th>M</th>\n",
       "      <td>0.0</td>\n",
       "      <td>1572.328285</td>\n",
       "      <td>40.0</td>\n",
       "      <td>1.0</td>\n",
       "      <td>0.0</td>\n",
       "      <td>0.0</td>\n",
       "      <td>163802.5</td>\n",
       "    </tr>\n",
       "    <tr>\n",
       "      <th>XNA</th>\n",
       "      <td>0.0</td>\n",
       "      <td>2358.600502</td>\n",
       "      <td>24.0</td>\n",
       "      <td>2.0</td>\n",
       "      <td>1.0</td>\n",
       "      <td>0.0</td>\n",
       "      <td>203905.0</td>\n",
       "    </tr>\n",
       "  </tbody>\n",
       "</table>\n",
       "</div>"
      ],
      "text/plain": [
       "        children  days_employed  dob_years  education_id  family_status_id  \\\n",
       "gender                                                                       \n",
       "F            0.0    2385.547863       44.0           1.0               0.0   \n",
       "M            0.0    1572.328285       40.0           1.0               0.0   \n",
       "XNA          0.0    2358.600502       24.0           2.0               1.0   \n",
       "\n",
       "        debt  total_income  \n",
       "gender                      \n",
       "F        0.0      138933.5  \n",
       "M        0.0      163802.5  \n",
       "XNA      0.0      203905.0  "
      ]
     },
     "execution_count": 17,
     "metadata": {},
     "output_type": "execute_result"
    }
   ],
   "source": [
    "med = data.groupby('gender').median()\n",
    "med"
   ]
  },
  {
   "cell_type": "markdown",
   "id": "4c291c7d",
   "metadata": {},
   "source": [
    "Ответ: \n",
    "\n",
    "Зарплата Ж = 138 тысяч, М = 163 тысячи,\n",
    "\n",
    "Возраст Ж = 40 лет, М = 44, \n",
    "\n",
    "Обе категории имеют высшее образование, не имеют детей и не состоят в зарегистрированных отношениях. \n",
    "\n",
    "Третий пол - возможно техническая ошибка. "
   ]
  },
  {
   "cell_type": "markdown",
   "id": "46c1f10b",
   "metadata": {
    "deletable": false,
    "editable": false,
    "id": "46c1f10b"
   },
   "source": [
    "#### 3.5 Приведите возможные причины появления пропусков в исходных данных."
   ]
  },
  {
   "cell_type": "markdown",
   "id": "3697d2a9",
   "metadata": {
    "deletable": false,
    "id": "3697d2a9"
   },
   "source": [
    "*Ответ:* \n",
    "\n",
    "Пропуски в исходных данных могут быть связаны с технической ошибкой, например сбой оборудования или ошибка в программе обработки данных, могут быть связаны с человеческим фактором, например кто-то забыл внести значение \n",
    "и психологическим фактором, кто-то не готов указывать о себе какие-то данные. \n",
    "\n"
   ]
  },
  {
   "cell_type": "markdown",
   "id": "8e4305b8",
   "metadata": {},
   "source": [
    "<div class=\"alert alert-block alert-success\">\n",
    "<b>Комментарий ревьюера:</b>\n",
    "\n",
    "✔️ Здесь подробно все описал, молодец)) "
   ]
  },
  {
   "cell_type": "markdown",
   "id": "3137d257",
   "metadata": {
    "deletable": false,
    "editable": false,
    "id": "3137d257"
   },
   "source": [
    "#### 3.6 Объясните, почему заполнить пропуски медианным значением — лучшее решение для количественных переменных."
   ]
  },
  {
   "cell_type": "markdown",
   "id": "cf40012a",
   "metadata": {
    "deletable": false,
    "id": "cf40012a"
   },
   "source": [
    "*Ответ:* \n",
    "\n",
    "Медиана имеет срединное значение из списка, а не среднее значение чисел в списке, поэтому она может более точно показать наиболее распространённое значение в списке, что более правдоподобно для массива данных. "
   ]
  },
  {
   "cell_type": "markdown",
   "id": "122e6b6e",
   "metadata": {},
   "source": [
    "<div class=\"alert alert-block alert-success\">\n",
    "<b>Комментарий ревьюера:</b>\n",
    "\n",
    "✔️ Все правильно медиана не подтвержена влиянию выбросов)) "
   ]
  },
  {
   "cell_type": "markdown",
   "id": "57bc304e",
   "metadata": {
    "deletable": false,
    "editable": false,
    "id": "57bc304e"
   },
   "source": [
    "### Шаг 4: общий вывод."
   ]
  },
  {
   "cell_type": "markdown",
   "id": "1ab75d1c",
   "metadata": {
    "deletable": false,
    "id": "1ab75d1c"
   },
   "source": [
    "#### Есть ли зависимость между количеством детей и возвратом кредита в срок?\n",
    "\n",
    "Ответ: количество детей в целом не влияет на платёжеспособность заёмщиков, средний процент просрочек на уровне 9%, однако наименее ответственны граждане без детей, они чаще берут кредиты и больше имеют просрочек.\n",
    "\n",
    "\n",
    "#### Есть ли зависимость между семейным положением и возвратом кредита в срок?\n",
    "\n",
    "Ответ: семейные люди имеют платёжеспособность выше, даже если брак уже не действителен или не был зарегистрирован, чем люди не состоящие в отношениях. \n",
    "\n",
    "\n",
    "#### Есть ли зависимость между уровнем дохода и возвратом кредита в срок?\n",
    "\n",
    "Ответ: заёмщики с самым большим доходом не гарантируют, что всё будет заплачено во время. \n",
    "\n",
    "\n",
    "\n",
    "#### Как разные цели кредита влияют на его возврат в срок?\n",
    "\n",
    "Ответ:\n",
    "\n",
    "На образование и покупку автомобиля берут 38% заёмщиков, при этом 9% имеют просрочки. \n",
    "50% займов берут на операции с недвижимостью, при этом самый низкий процет просрочки 7,5%. \n",
    "\n",
    "50% ипотечных займов. Как правило ипотеку берут заёмщики с уверенным уровнем дохода и стабильной зарплатой, так как это долгосрочный крупный займ и требует стабильного финансового положения. Это подтверждают цифры -  98% всех заёмщиков на ипотеку имеют уровень дохода от 50 000 рублей, из них 75% официально трудоустроены в компанях или являются совладельцами бизнеса, просрочек в этой категории меньше всего - 7,25%.\n",
    "\n",
    "По 20 и 18% в категориях операции с автомобилями и получение образования соответственно имеют просрочки по 9%. \n",
    "\n",
    "Меньше всего берут займ на свадьбу, всего 10% и уровень просрочек примерно 8%. \n",
    "\n",
    "\n",
    "\n",
    "Даешь рекомендацией банку по улучшению сбора данных и скоринга.\n",
    "\n",
    "\n",
    "\n",
    "\n",
    "\n",
    "\n",
    "Женщины берут займы в два раза больше, чем мужчины, при этом зарплата у женщин на 18% меньше. \n",
    "\n",
    "\n",
    "Можно сделать вывод, что примерно 9% граждан имеют просрочки независимо от уровня дохода, цели кредита или семейного положения. \n"
   ]
  },
  {
   "cell_type": "markdown",
   "id": "ec880d24",
   "metadata": {},
   "source": [
    "<div class=\"alert alert-block alert-success\">\n",
    "<b>Комментарий ревьюера_V2:</b>\n",
    "\n",
    "✔️ Выводы переработала хорошо, молодец)) \n",
    "    \n",
    "    \n",
    "  </div>"
   ]
  },
  {
   "cell_type": "markdown",
   "id": "e49fb082",
   "metadata": {},
   "source": [
    "<div class=\"alert alert-block alert-danger\">\n",
    "<b>Комментарий ревьюера:</b> \n",
    "\n",
    "❌ Выводы делаем детально, что должно быть в них:\n",
    "- Отвечаешь на вопрос \"Есть ли зависимость между количеством детей и возвратом кредита в срок?\"\n",
    "- Отвечаешь на вопрос  \"Есть ли зависимость между семейным положением и возвратом кредита в срок?\"\n",
    "- Отвечаешь на вопрос  \"Есть ли зависимость между уровнем дохода и возвратом кредита в срок?\"\n",
    "- Отвечаешь на вопрос  \"Как разные цели кредита влияют на его возврат в срок?\"\n",
    "- Даешь рекомендацией банку по улучшению сбора данных и скоринга.\n",
    "\n",
    "Общий вывод - резюме этой работы. Большинство заказчиков посмотрят сначала его (а некоторые только его). Чтобы выводы не огорошивали заказчика своей очевидностью, стоит добавить в них цифр, всяких корреляций, процентов итд :) Сделай так, чтобы вся найденная в данных информация была отражена в выводе "
   ]
  },
  {
   "cell_type": "markdown",
   "id": "8ad5bcbc",
   "metadata": {},
   "source": [
    "<div class=\"alert alert-block alert-success\">\n",
    "<b>Комментарий ревьюера:</b>\n",
    "    \n",
    "Ксения, отлично поработала, видно что умеешь работать с кодом, надо будет избавиться от мультииндексов в таблицах и  поработать над выводами, в остальном все отлично)) \n",
    "<br> Жду исправленного варианта)\n",
    "  </div>"
   ]
  },
  {
   "cell_type": "markdown",
   "id": "c59aaf4f",
   "metadata": {},
   "source": [
    "<div class=\"alert alert-block alert-success\">\n",
    "<b>Комментарий ревьюера_V2:</b>\n",
    "\n",
    "✔️ Ксения, отличная работа, все исправила, можно двигаться дальше, успехов в дальнейшем обучении)) \n",
    "    \n",
    "    \n",
    "  </div>"
   ]
  }
 ],
 "metadata": {
  "ExecuteTimeLog": [
   {
    "duration": 53,
    "start_time": "2023-02-08T06:35:11.876Z"
   },
   {
    "duration": 3,
    "start_time": "2023-02-08T06:36:13.702Z"
   },
   {
    "duration": 751,
    "start_time": "2023-02-08T06:36:16.691Z"
   },
   {
    "duration": 3,
    "start_time": "2023-02-08T06:36:17.444Z"
   },
   {
    "duration": 33,
    "start_time": "2023-02-08T06:36:17.898Z"
   },
   {
    "duration": 7,
    "start_time": "2023-02-08T06:36:46.515Z"
   },
   {
    "duration": 776,
    "start_time": "2023-02-08T06:38:29.877Z"
   },
   {
    "duration": 12,
    "start_time": "2023-02-08T06:38:59.471Z"
   },
   {
    "duration": 450,
    "start_time": "2023-02-08T06:40:23.649Z"
   },
   {
    "duration": 181,
    "start_time": "2023-02-08T06:42:02.441Z"
   },
   {
    "duration": 198,
    "start_time": "2023-02-08T06:43:15.781Z"
   },
   {
    "duration": 4,
    "start_time": "2023-02-08T06:57:21.998Z"
   },
   {
    "duration": 2110,
    "start_time": "2023-02-08T06:57:48.843Z"
   },
   {
    "duration": 2028,
    "start_time": "2023-02-08T06:57:51.747Z"
   },
   {
    "duration": 16,
    "start_time": "2023-02-08T06:58:04.274Z"
   },
   {
    "duration": 4,
    "start_time": "2023-02-08T06:59:01.455Z"
   },
   {
    "duration": 5,
    "start_time": "2023-02-08T07:00:30.586Z"
   },
   {
    "duration": 6,
    "start_time": "2023-02-08T07:00:48.895Z"
   },
   {
    "duration": 5,
    "start_time": "2023-02-08T07:03:15.811Z"
   },
   {
    "duration": 5,
    "start_time": "2023-02-08T07:08:32.217Z"
   },
   {
    "duration": 17,
    "start_time": "2023-02-08T07:14:18.252Z"
   },
   {
    "duration": 17,
    "start_time": "2023-02-08T07:14:49.997Z"
   },
   {
    "duration": 77,
    "start_time": "2023-02-08T07:15:04.761Z"
   },
   {
    "duration": 42,
    "start_time": "2023-02-08T07:15:24.104Z"
   },
   {
    "duration": 53,
    "start_time": "2023-02-08T07:19:22.040Z"
   },
   {
    "duration": 58,
    "start_time": "2023-02-08T07:19:29.407Z"
   },
   {
    "duration": 47,
    "start_time": "2023-02-08T07:19:36.191Z"
   },
   {
    "duration": 3,
    "start_time": "2023-02-08T07:19:42.859Z"
   },
   {
    "duration": 19,
    "start_time": "2023-02-08T07:19:46.741Z"
   },
   {
    "duration": 21,
    "start_time": "2023-02-08T07:20:08.413Z"
   },
   {
    "duration": 3,
    "start_time": "2023-02-08T07:20:27.572Z"
   },
   {
    "duration": 3,
    "start_time": "2023-02-08T07:21:00.166Z"
   },
   {
    "duration": 19,
    "start_time": "2023-02-08T07:21:01.142Z"
   },
   {
    "duration": 5,
    "start_time": "2023-02-08T07:21:11.177Z"
   },
   {
    "duration": 28,
    "start_time": "2023-02-08T07:21:11.806Z"
   },
   {
    "duration": 59,
    "start_time": "2023-02-08T07:22:09.328Z"
   },
   {
    "duration": 607,
    "start_time": "2023-02-08T07:22:19.963Z"
   },
   {
    "duration": 23,
    "start_time": "2023-02-08T07:24:07.640Z"
   },
   {
    "duration": 398,
    "start_time": "2023-02-08T07:25:21.738Z"
   },
   {
    "duration": 433,
    "start_time": "2023-02-08T07:26:00.264Z"
   },
   {
    "duration": 208,
    "start_time": "2023-02-08T07:27:47.721Z"
   },
   {
    "duration": 9,
    "start_time": "2023-02-08T07:28:04.617Z"
   },
   {
    "duration": 21,
    "start_time": "2023-02-08T07:31:10.671Z"
   },
   {
    "duration": 18,
    "start_time": "2023-02-08T07:31:29.010Z"
   },
   {
    "duration": 476,
    "start_time": "2023-02-08T07:32:22.665Z"
   },
   {
    "duration": 353,
    "start_time": "2023-02-08T07:34:16.479Z"
   },
   {
    "duration": 416,
    "start_time": "2023-02-08T07:36:12.653Z"
   },
   {
    "duration": 7,
    "start_time": "2023-02-08T07:36:45.546Z"
   },
   {
    "duration": 6,
    "start_time": "2023-02-08T07:36:54.214Z"
   },
   {
    "duration": 367,
    "start_time": "2023-02-08T07:36:59.362Z"
   },
   {
    "duration": 360,
    "start_time": "2023-02-08T07:38:08.629Z"
   },
   {
    "duration": 48,
    "start_time": "2023-02-08T07:38:51.661Z"
   },
   {
    "duration": 18,
    "start_time": "2023-02-08T07:38:57.233Z"
   },
   {
    "duration": 18,
    "start_time": "2023-02-08T07:39:08.210Z"
   },
   {
    "duration": 163,
    "start_time": "2023-02-08T07:39:26.831Z"
   },
   {
    "duration": 3,
    "start_time": "2023-02-08T07:39:27.273Z"
   },
   {
    "duration": 191,
    "start_time": "2023-02-08T07:39:27.859Z"
   },
   {
    "duration": 3,
    "start_time": "2023-02-08T07:39:29.438Z"
   },
   {
    "duration": 18,
    "start_time": "2023-02-08T07:39:30.587Z"
   },
   {
    "duration": 17,
    "start_time": "2023-02-08T07:39:39.551Z"
   },
   {
    "duration": 17,
    "start_time": "2023-02-08T07:40:26.292Z"
   },
   {
    "duration": 7,
    "start_time": "2023-02-08T07:52:28.794Z"
   },
   {
    "duration": 372,
    "start_time": "2023-02-08T07:52:43.182Z"
   },
   {
    "duration": 7,
    "start_time": "2023-02-08T07:53:14.089Z"
   },
   {
    "duration": 181,
    "start_time": "2023-02-08T07:56:54.872Z"
   },
   {
    "duration": 14,
    "start_time": "2023-02-08T07:57:44.937Z"
   },
   {
    "duration": 7,
    "start_time": "2023-02-08T07:58:23.248Z"
   },
   {
    "duration": 18,
    "start_time": "2023-02-08T07:58:33.072Z"
   },
   {
    "duration": 173,
    "start_time": "2023-02-08T08:00:04.778Z"
   },
   {
    "duration": 21,
    "start_time": "2023-02-08T08:00:30.685Z"
   },
   {
    "duration": 48,
    "start_time": "2023-02-08T08:01:18.068Z"
   },
   {
    "duration": 169,
    "start_time": "2023-02-08T08:01:27.735Z"
   },
   {
    "duration": 53,
    "start_time": "2023-02-08T08:01:57.519Z"
   },
   {
    "duration": 20,
    "start_time": "2023-02-08T08:02:02.280Z"
   },
   {
    "duration": 1057,
    "start_time": "2023-02-08T08:02:20.963Z"
   },
   {
    "duration": 775,
    "start_time": "2023-02-08T08:02:39.486Z"
   },
   {
    "duration": 19,
    "start_time": "2023-02-08T08:07:16.305Z"
   },
   {
    "duration": 164,
    "start_time": "2023-02-08T08:09:33.411Z"
   },
   {
    "duration": 3,
    "start_time": "2023-02-08T08:09:33.884Z"
   },
   {
    "duration": 183,
    "start_time": "2023-02-08T08:09:34.570Z"
   },
   {
    "duration": 3,
    "start_time": "2023-02-08T08:09:35.341Z"
   },
   {
    "duration": 18,
    "start_time": "2023-02-08T08:09:36.488Z"
   },
   {
    "duration": 18,
    "start_time": "2023-02-08T08:10:03.957Z"
   },
   {
    "duration": 9,
    "start_time": "2023-02-08T08:10:29.478Z"
   },
   {
    "duration": 7,
    "start_time": "2023-02-08T08:11:12.997Z"
   },
   {
    "duration": 7,
    "start_time": "2023-02-08T08:11:35.852Z"
   },
   {
    "duration": 484,
    "start_time": "2023-02-08T08:11:49.566Z"
   },
   {
    "duration": 19,
    "start_time": "2023-02-08T08:12:10.192Z"
   },
   {
    "duration": 50,
    "start_time": "2023-02-08T08:12:31.241Z"
   },
   {
    "duration": 97,
    "start_time": "2023-02-08T08:12:35.756Z"
   },
   {
    "duration": 100,
    "start_time": "2023-02-08T08:12:38.736Z"
   },
   {
    "duration": 111,
    "start_time": "2023-02-08T08:12:46.973Z"
   },
   {
    "duration": 19,
    "start_time": "2023-02-08T08:14:58.278Z"
   },
   {
    "duration": 56,
    "start_time": "2023-02-08T08:15:39.092Z"
   },
   {
    "duration": 51,
    "start_time": "2023-02-08T08:15:57.134Z"
   },
   {
    "duration": 19,
    "start_time": "2023-02-08T08:16:22.526Z"
   },
   {
    "duration": 18,
    "start_time": "2023-02-08T08:32:48.891Z"
   },
   {
    "duration": 371,
    "start_time": "2023-02-08T08:33:41.671Z"
   },
   {
    "duration": 7,
    "start_time": "2023-02-08T08:34:32.322Z"
   },
   {
    "duration": 208,
    "start_time": "2023-02-08T08:34:39.376Z"
   },
   {
    "duration": 193,
    "start_time": "2023-02-08T08:34:50.304Z"
   },
   {
    "duration": 231,
    "start_time": "2023-02-08T08:34:57.860Z"
   },
   {
    "duration": 13,
    "start_time": "2023-02-08T08:35:48.498Z"
   },
   {
    "duration": 535,
    "start_time": "2023-02-08T08:36:47.288Z"
   },
   {
    "duration": 388,
    "start_time": "2023-02-08T08:37:01.983Z"
   },
   {
    "duration": 374,
    "start_time": "2023-02-08T10:23:53.659Z"
   },
   {
    "duration": 7,
    "start_time": "2023-02-08T10:26:43.042Z"
   },
   {
    "duration": 9,
    "start_time": "2023-02-08T10:30:50.359Z"
   },
   {
    "duration": 14,
    "start_time": "2023-02-08T10:31:52.333Z"
   },
   {
    "duration": 14,
    "start_time": "2023-02-08T10:31:56.460Z"
   },
   {
    "duration": 21,
    "start_time": "2023-02-08T10:33:00.091Z"
   },
   {
    "duration": 6,
    "start_time": "2023-02-08T10:43:40.171Z"
   },
   {
    "duration": 6,
    "start_time": "2023-02-08T10:46:09.205Z"
   },
   {
    "duration": 10,
    "start_time": "2023-02-08T10:47:20.636Z"
   },
   {
    "duration": 21,
    "start_time": "2023-02-08T10:47:30.471Z"
   },
   {
    "duration": 9,
    "start_time": "2023-02-08T10:47:54.082Z"
   },
   {
    "duration": 9,
    "start_time": "2023-02-08T10:49:16.098Z"
   },
   {
    "duration": 11,
    "start_time": "2023-02-08T10:52:14.681Z"
   },
   {
    "duration": 11,
    "start_time": "2023-02-08T10:52:36.641Z"
   },
   {
    "duration": 11,
    "start_time": "2023-02-08T10:53:40.647Z"
   },
   {
    "duration": 9,
    "start_time": "2023-02-08T10:54:07.541Z"
   },
   {
    "duration": 4,
    "start_time": "2023-02-08T10:54:25.131Z"
   },
   {
    "duration": 188,
    "start_time": "2023-02-08T10:54:25.616Z"
   },
   {
    "duration": 12,
    "start_time": "2023-02-08T10:54:45.958Z"
   },
   {
    "duration": 11,
    "start_time": "2023-02-08T10:55:35.565Z"
   },
   {
    "duration": 10,
    "start_time": "2023-02-08T10:58:41.654Z"
   },
   {
    "duration": 63,
    "start_time": "2023-02-08T11:21:17.817Z"
   },
   {
    "duration": 23,
    "start_time": "2023-02-08T11:21:44.452Z"
   },
   {
    "duration": 29,
    "start_time": "2023-02-08T11:22:13.798Z"
   },
   {
    "duration": 7,
    "start_time": "2023-02-08T11:23:07.586Z"
   },
   {
    "duration": 7,
    "start_time": "2023-02-08T11:23:15.687Z"
   },
   {
    "duration": 21,
    "start_time": "2023-02-08T11:23:23.990Z"
   },
   {
    "duration": 22,
    "start_time": "2023-02-08T11:24:54.148Z"
   },
   {
    "duration": 16,
    "start_time": "2023-02-08T11:25:20.241Z"
   },
   {
    "duration": 60,
    "start_time": "2023-02-08T11:33:35.776Z"
   },
   {
    "duration": 56,
    "start_time": "2023-02-08T11:33:58.341Z"
   },
   {
    "duration": 49,
    "start_time": "2023-02-08T11:34:32.189Z"
   },
   {
    "duration": 11,
    "start_time": "2023-02-08T12:02:44.511Z"
   },
   {
    "duration": 6,
    "start_time": "2023-02-08T12:04:51.054Z"
   },
   {
    "duration": 6,
    "start_time": "2023-02-08T12:04:56.840Z"
   },
   {
    "duration": 10,
    "start_time": "2023-02-08T12:05:04.869Z"
   },
   {
    "duration": 10,
    "start_time": "2023-02-08T12:06:29.711Z"
   },
   {
    "duration": 10,
    "start_time": "2023-02-08T12:06:32.158Z"
   },
   {
    "duration": 15,
    "start_time": "2023-02-08T12:06:39.679Z"
   },
   {
    "duration": 20,
    "start_time": "2023-02-08T12:07:08.466Z"
   },
   {
    "duration": 54,
    "start_time": "2023-02-08T12:12:34.988Z"
   },
   {
    "duration": 45,
    "start_time": "2023-02-08T12:13:03.567Z"
   },
   {
    "duration": 59,
    "start_time": "2023-02-08T12:13:39.080Z"
   },
   {
    "duration": 23,
    "start_time": "2023-02-08T12:13:57.870Z"
   },
   {
    "duration": 11,
    "start_time": "2023-02-08T12:14:35.918Z"
   },
   {
    "duration": 13,
    "start_time": "2023-02-08T12:15:26.736Z"
   },
   {
    "duration": 3,
    "start_time": "2023-02-08T12:15:48.399Z"
   },
   {
    "duration": 38,
    "start_time": "2023-02-08T12:15:57.967Z"
   },
   {
    "duration": 6,
    "start_time": "2023-02-08T12:52:46.601Z"
   },
   {
    "duration": 6,
    "start_time": "2023-02-08T12:55:08.835Z"
   },
   {
    "duration": 20,
    "start_time": "2023-02-08T12:56:32.373Z"
   },
   {
    "duration": 6,
    "start_time": "2023-02-08T12:57:36.696Z"
   },
   {
    "duration": 21,
    "start_time": "2023-02-08T12:57:43.833Z"
   },
   {
    "duration": 18,
    "start_time": "2023-02-08T12:57:59.199Z"
   },
   {
    "duration": 18,
    "start_time": "2023-02-08T12:58:26.232Z"
   },
   {
    "duration": 17,
    "start_time": "2023-02-08T12:58:38.712Z"
   },
   {
    "duration": 11,
    "start_time": "2023-02-08T13:01:02.275Z"
   },
   {
    "duration": 7,
    "start_time": "2023-02-08T13:01:07.383Z"
   },
   {
    "duration": 9,
    "start_time": "2023-02-08T13:01:21.896Z"
   },
   {
    "duration": 5,
    "start_time": "2023-02-08T13:01:57.724Z"
   },
   {
    "duration": 8,
    "start_time": "2023-02-08T13:02:28.454Z"
   },
   {
    "duration": 7,
    "start_time": "2023-02-08T13:06:17.963Z"
   },
   {
    "duration": 8,
    "start_time": "2023-02-08T13:06:43.495Z"
   },
   {
    "duration": 10,
    "start_time": "2023-02-08T13:07:21.933Z"
   },
   {
    "duration": 18,
    "start_time": "2023-02-08T13:16:39.523Z"
   },
   {
    "duration": 19,
    "start_time": "2023-02-08T13:17:34.568Z"
   },
   {
    "duration": 11,
    "start_time": "2023-02-08T13:18:10.823Z"
   },
   {
    "duration": 16,
    "start_time": "2023-02-08T13:18:26.635Z"
   },
   {
    "duration": 11,
    "start_time": "2023-02-08T13:19:29.239Z"
   },
   {
    "duration": 14,
    "start_time": "2023-02-08T13:19:54.322Z"
   },
   {
    "duration": 54,
    "start_time": "2023-02-08T13:20:41.180Z"
   },
   {
    "duration": 98,
    "start_time": "2023-02-08T13:20:56.429Z"
   },
   {
    "duration": 19,
    "start_time": "2023-02-08T13:21:09.712Z"
   },
   {
    "duration": 16,
    "start_time": "2023-02-08T13:21:31.605Z"
   },
   {
    "duration": 75,
    "start_time": "2023-02-08T13:22:03.657Z"
   },
   {
    "duration": 12,
    "start_time": "2023-02-08T13:22:31.869Z"
   },
   {
    "duration": 11,
    "start_time": "2023-02-08T13:43:27.704Z"
   },
   {
    "duration": 10,
    "start_time": "2023-02-08T13:44:31.864Z"
   },
   {
    "duration": 9,
    "start_time": "2023-02-08T13:46:21.672Z"
   },
   {
    "duration": 9,
    "start_time": "2023-02-08T13:46:53.950Z"
   },
   {
    "duration": 13,
    "start_time": "2023-02-08T13:47:33.882Z"
   },
   {
    "duration": 9,
    "start_time": "2023-02-08T13:47:54.854Z"
   },
   {
    "duration": 11,
    "start_time": "2023-02-08T13:48:26.119Z"
   },
   {
    "duration": 11,
    "start_time": "2023-02-08T13:48:51.211Z"
   },
   {
    "duration": 10,
    "start_time": "2023-02-08T13:49:03.158Z"
   },
   {
    "duration": 8,
    "start_time": "2023-02-08T13:49:51.124Z"
   },
   {
    "duration": 9,
    "start_time": "2023-02-08T13:50:10.096Z"
   },
   {
    "duration": 8,
    "start_time": "2023-02-08T13:50:14.002Z"
   },
   {
    "duration": 9,
    "start_time": "2023-02-08T13:50:18.725Z"
   },
   {
    "duration": 9,
    "start_time": "2023-02-08T13:50:23.600Z"
   },
   {
    "duration": 11,
    "start_time": "2023-02-08T13:50:35.405Z"
   },
   {
    "duration": 9,
    "start_time": "2023-02-08T13:52:11.988Z"
   },
   {
    "duration": 10,
    "start_time": "2023-02-08T13:53:02.379Z"
   },
   {
    "duration": 7,
    "start_time": "2023-02-08T14:00:38.484Z"
   },
   {
    "duration": 6,
    "start_time": "2023-02-08T14:01:08.325Z"
   },
   {
    "duration": 74,
    "start_time": "2023-02-08T14:05:32.727Z"
   },
   {
    "duration": 10,
    "start_time": "2023-02-08T14:06:43.962Z"
   },
   {
    "duration": 3,
    "start_time": "2023-02-08T14:08:00.534Z"
   },
   {
    "duration": 24,
    "start_time": "2023-02-08T14:08:08.325Z"
   },
   {
    "duration": 9,
    "start_time": "2023-02-08T14:08:30.586Z"
   },
   {
    "duration": 10,
    "start_time": "2023-02-08T14:10:26.364Z"
   },
   {
    "duration": 90,
    "start_time": "2023-02-08T14:10:35.625Z"
   },
   {
    "duration": 10,
    "start_time": "2023-02-08T14:15:12.638Z"
   },
   {
    "duration": 14,
    "start_time": "2023-02-08T14:15:36.240Z"
   },
   {
    "duration": 8,
    "start_time": "2023-02-08T14:16:07.601Z"
   },
   {
    "duration": 9,
    "start_time": "2023-02-08T14:16:35.558Z"
   },
   {
    "duration": 8,
    "start_time": "2023-02-08T14:17:16.394Z"
   },
   {
    "duration": 9,
    "start_time": "2023-02-08T14:20:57.453Z"
   },
   {
    "duration": 11,
    "start_time": "2023-02-08T14:21:20.668Z"
   },
   {
    "duration": 4,
    "start_time": "2023-02-08T14:22:46.039Z"
   },
   {
    "duration": 5,
    "start_time": "2023-02-08T14:22:51.586Z"
   },
   {
    "duration": 7,
    "start_time": "2023-02-08T14:23:28.443Z"
   },
   {
    "duration": 11,
    "start_time": "2023-02-08T14:24:32.913Z"
   },
   {
    "duration": 81,
    "start_time": "2023-02-08T14:26:26.616Z"
   },
   {
    "duration": 14,
    "start_time": "2023-02-08T14:27:14.716Z"
   },
   {
    "duration": 7,
    "start_time": "2023-02-08T14:27:25.661Z"
   },
   {
    "duration": 53,
    "start_time": "2023-02-08T14:27:35.280Z"
   },
   {
    "duration": 16,
    "start_time": "2023-02-08T14:27:40.671Z"
   },
   {
    "duration": 5,
    "start_time": "2023-02-08T14:27:45.516Z"
   },
   {
    "duration": 4,
    "start_time": "2023-02-08T14:29:07.191Z"
   },
   {
    "duration": 197,
    "start_time": "2023-02-08T14:29:08.369Z"
   },
   {
    "duration": 6,
    "start_time": "2023-02-08T14:29:09.421Z"
   },
   {
    "duration": 8,
    "start_time": "2023-02-08T14:29:10.272Z"
   },
   {
    "duration": 5,
    "start_time": "2023-02-08T14:29:11.011Z"
   },
   {
    "duration": 74,
    "start_time": "2023-02-08T14:32:05.960Z"
   },
   {
    "duration": 15,
    "start_time": "2023-02-08T14:32:12.075Z"
   },
   {
    "duration": 6,
    "start_time": "2023-02-08T14:32:39.783Z"
   },
   {
    "duration": 7,
    "start_time": "2023-02-08T14:33:01.109Z"
   },
   {
    "duration": 10,
    "start_time": "2023-02-08T14:33:18.067Z"
   },
   {
    "duration": 5,
    "start_time": "2023-02-08T14:33:23.339Z"
   },
   {
    "duration": 8,
    "start_time": "2023-02-08T14:33:46.344Z"
   },
   {
    "duration": 8,
    "start_time": "2023-02-08T14:34:43.818Z"
   },
   {
    "duration": 7,
    "start_time": "2023-02-08T14:35:40.961Z"
   },
   {
    "duration": 19,
    "start_time": "2023-02-08T14:37:06.941Z"
   },
   {
    "duration": 9,
    "start_time": "2023-02-08T14:37:19.143Z"
   },
   {
    "duration": 6,
    "start_time": "2023-02-08T14:37:29.584Z"
   },
   {
    "duration": 4,
    "start_time": "2023-02-08T14:38:18.099Z"
   },
   {
    "duration": 16,
    "start_time": "2023-02-08T14:38:45.233Z"
   },
   {
    "duration": 14,
    "start_time": "2023-02-08T14:39:37.654Z"
   },
   {
    "duration": 8,
    "start_time": "2023-02-08T14:40:34.461Z"
   },
   {
    "duration": 8,
    "start_time": "2023-02-08T14:40:41.058Z"
   },
   {
    "duration": 6,
    "start_time": "2023-02-08T14:41:11.865Z"
   },
   {
    "duration": 8,
    "start_time": "2023-02-08T14:45:11.662Z"
   },
   {
    "duration": 10,
    "start_time": "2023-02-08T14:45:17.016Z"
   },
   {
    "duration": 6,
    "start_time": "2023-02-08T14:45:18.191Z"
   },
   {
    "duration": 6,
    "start_time": "2023-02-08T14:45:41.024Z"
   },
   {
    "duration": 7,
    "start_time": "2023-02-08T14:46:07.428Z"
   },
   {
    "duration": 5,
    "start_time": "2023-02-08T14:46:14.059Z"
   },
   {
    "duration": 9,
    "start_time": "2023-02-08T14:46:21.267Z"
   },
   {
    "duration": 9,
    "start_time": "2023-02-08T14:47:31.066Z"
   },
   {
    "duration": 3,
    "start_time": "2023-02-08T14:48:09.094Z"
   },
   {
    "duration": 6,
    "start_time": "2023-02-08T14:48:20.081Z"
   },
   {
    "duration": 6,
    "start_time": "2023-02-08T14:48:37.133Z"
   },
   {
    "duration": 10,
    "start_time": "2023-02-08T14:48:40.428Z"
   },
   {
    "duration": 5,
    "start_time": "2023-02-08T14:51:01.307Z"
   },
   {
    "duration": 6,
    "start_time": "2023-02-08T14:51:03.544Z"
   },
   {
    "duration": 10,
    "start_time": "2023-02-08T14:51:11.127Z"
   },
   {
    "duration": 4,
    "start_time": "2023-02-08T14:52:55.102Z"
   },
   {
    "duration": 11,
    "start_time": "2023-02-08T14:53:03.185Z"
   },
   {
    "duration": 11,
    "start_time": "2023-02-08T14:53:35.347Z"
   },
   {
    "duration": 10,
    "start_time": "2023-02-08T14:53:55.983Z"
   },
   {
    "duration": 7,
    "start_time": "2023-02-08T14:53:58.842Z"
   },
   {
    "duration": 12,
    "start_time": "2023-02-08T14:53:59.357Z"
   },
   {
    "duration": 10,
    "start_time": "2023-02-08T14:55:25.099Z"
   },
   {
    "duration": 6,
    "start_time": "2023-02-08T14:57:57.717Z"
   },
   {
    "duration": 5,
    "start_time": "2023-02-08T14:58:00.820Z"
   },
   {
    "duration": 5,
    "start_time": "2023-02-08T14:58:11.728Z"
   },
   {
    "duration": 11,
    "start_time": "2023-02-08T14:59:04.315Z"
   },
   {
    "duration": 15,
    "start_time": "2023-02-08T14:59:27.898Z"
   },
   {
    "duration": 51,
    "start_time": "2023-02-08T15:01:34.787Z"
   },
   {
    "duration": 52,
    "start_time": "2023-02-08T15:01:54.096Z"
   },
   {
    "duration": 233,
    "start_time": "2023-02-08T15:02:04.381Z"
   },
   {
    "duration": 11,
    "start_time": "2023-02-08T15:02:26.435Z"
   },
   {
    "duration": 8,
    "start_time": "2023-02-08T15:04:21.804Z"
   },
   {
    "duration": 11,
    "start_time": "2023-02-08T15:04:24.632Z"
   },
   {
    "duration": 9,
    "start_time": "2023-02-08T15:11:17.307Z"
   },
   {
    "duration": 12,
    "start_time": "2023-02-08T15:11:26.044Z"
   },
   {
    "duration": 13,
    "start_time": "2023-02-08T15:13:04.979Z"
   },
   {
    "duration": 14,
    "start_time": "2023-02-08T15:16:48.480Z"
   },
   {
    "duration": 12,
    "start_time": "2023-02-08T15:18:22.445Z"
   },
   {
    "duration": 16,
    "start_time": "2023-02-08T15:18:29.743Z"
   },
   {
    "duration": 15,
    "start_time": "2023-02-08T15:19:33.534Z"
   },
   {
    "duration": 15,
    "start_time": "2023-02-08T15:21:01.327Z"
   },
   {
    "duration": 14,
    "start_time": "2023-02-08T15:21:07.960Z"
   },
   {
    "duration": 12,
    "start_time": "2023-02-08T15:23:16.094Z"
   },
   {
    "duration": 11,
    "start_time": "2023-02-08T15:23:29.198Z"
   },
   {
    "duration": 13,
    "start_time": "2023-02-08T15:24:06.899Z"
   },
   {
    "duration": 12,
    "start_time": "2023-02-08T15:24:15.746Z"
   },
   {
    "duration": 57,
    "start_time": "2023-02-08T15:26:35.238Z"
   },
   {
    "duration": 8,
    "start_time": "2023-02-08T15:26:41.722Z"
   },
   {
    "duration": 13,
    "start_time": "2023-02-08T15:26:46.017Z"
   },
   {
    "duration": 12,
    "start_time": "2023-02-08T15:26:46.738Z"
   },
   {
    "duration": 10,
    "start_time": "2023-02-08T15:26:56.994Z"
   },
   {
    "duration": 21,
    "start_time": "2023-02-08T15:28:39.348Z"
   },
   {
    "duration": 15,
    "start_time": "2023-02-08T15:29:45.031Z"
   },
   {
    "duration": 14,
    "start_time": "2023-02-08T15:30:01.950Z"
   },
   {
    "duration": 15,
    "start_time": "2023-02-08T15:30:26.521Z"
   },
   {
    "duration": 13,
    "start_time": "2023-02-08T15:30:44.537Z"
   },
   {
    "duration": 12,
    "start_time": "2023-02-08T15:31:54.332Z"
   },
   {
    "duration": 14,
    "start_time": "2023-02-08T15:32:16.593Z"
   },
   {
    "duration": 11,
    "start_time": "2023-02-08T15:32:22.918Z"
   },
   {
    "duration": 24,
    "start_time": "2023-02-08T15:32:52.099Z"
   },
   {
    "duration": 25,
    "start_time": "2023-02-08T15:33:25.520Z"
   },
   {
    "duration": 15,
    "start_time": "2023-02-08T15:33:37.720Z"
   },
   {
    "duration": 13,
    "start_time": "2023-02-08T15:34:22.562Z"
   },
   {
    "duration": 12,
    "start_time": "2023-02-08T15:34:44.333Z"
   },
   {
    "duration": 14,
    "start_time": "2023-02-08T15:34:45.150Z"
   },
   {
    "duration": 26,
    "start_time": "2023-02-08T15:35:26.042Z"
   },
   {
    "duration": 18,
    "start_time": "2023-02-08T15:35:53.031Z"
   },
   {
    "duration": 12,
    "start_time": "2023-02-08T15:36:37.171Z"
   },
   {
    "duration": 57,
    "start_time": "2023-02-09T07:48:06.209Z"
   },
   {
    "duration": 9,
    "start_time": "2023-02-09T07:48:36.489Z"
   },
   {
    "duration": 9,
    "start_time": "2023-02-09T07:48:46.578Z"
   },
   {
    "duration": 8,
    "start_time": "2023-02-09T07:48:47.100Z"
   },
   {
    "duration": 7,
    "start_time": "2023-02-09T07:48:48.760Z"
   },
   {
    "duration": 9,
    "start_time": "2023-02-09T07:48:49.232Z"
   },
   {
    "duration": 8,
    "start_time": "2023-02-09T07:48:50.510Z"
   },
   {
    "duration": 9,
    "start_time": "2023-02-09T07:48:50.936Z"
   },
   {
    "duration": 9,
    "start_time": "2023-02-09T07:48:52.362Z"
   },
   {
    "duration": 7,
    "start_time": "2023-02-09T07:48:52.773Z"
   },
   {
    "duration": 968,
    "start_time": "2023-02-09T07:49:03.977Z"
   },
   {
    "duration": 4,
    "start_time": "2023-02-09T07:49:04.947Z"
   },
   {
    "duration": 284,
    "start_time": "2023-02-09T07:49:04.952Z"
   },
   {
    "duration": 12,
    "start_time": "2023-02-09T07:49:05.239Z"
   },
   {
    "duration": 18,
    "start_time": "2023-02-09T07:49:05.505Z"
   },
   {
    "duration": 16,
    "start_time": "2023-02-09T07:49:06.613Z"
   },
   {
    "duration": 18,
    "start_time": "2023-02-09T07:49:06.952Z"
   },
   {
    "duration": 18,
    "start_time": "2023-02-09T07:49:07.936Z"
   },
   {
    "duration": 14,
    "start_time": "2023-02-09T07:49:08.252Z"
   },
   {
    "duration": 23,
    "start_time": "2023-02-09T07:49:09.301Z"
   },
   {
    "duration": 18,
    "start_time": "2023-02-09T07:49:09.988Z"
   },
   {
    "duration": 15,
    "start_time": "2023-02-09T07:49:18.593Z"
   },
   {
    "duration": 8,
    "start_time": "2023-02-09T07:49:42.499Z"
   },
   {
    "duration": 18,
    "start_time": "2023-02-09T07:49:49.658Z"
   },
   {
    "duration": 23,
    "start_time": "2023-02-09T07:49:59.727Z"
   },
   {
    "duration": 16,
    "start_time": "2023-02-09T07:50:00.707Z"
   },
   {
    "duration": 22,
    "start_time": "2023-02-09T07:50:29.716Z"
   },
   {
    "duration": 15,
    "start_time": "2023-02-09T08:00:16.187Z"
   },
   {
    "duration": 13,
    "start_time": "2023-02-09T08:00:44.406Z"
   },
   {
    "duration": 16,
    "start_time": "2023-02-09T08:00:57.482Z"
   },
   {
    "duration": 14,
    "start_time": "2023-02-09T08:01:07.958Z"
   },
   {
    "duration": 31,
    "start_time": "2023-02-09T08:01:19.434Z"
   },
   {
    "duration": 14,
    "start_time": "2023-02-09T08:01:29.294Z"
   },
   {
    "duration": 16,
    "start_time": "2023-02-09T08:01:46.055Z"
   },
   {
    "duration": 16,
    "start_time": "2023-02-09T08:02:38.717Z"
   },
   {
    "duration": 25,
    "start_time": "2023-02-09T08:04:29.993Z"
   },
   {
    "duration": 16,
    "start_time": "2023-02-09T08:04:38.164Z"
   },
   {
    "duration": 20,
    "start_time": "2023-02-09T08:04:42.432Z"
   },
   {
    "duration": 16,
    "start_time": "2023-02-09T08:04:42.819Z"
   },
   {
    "duration": 6,
    "start_time": "2023-02-09T08:04:52.409Z"
   },
   {
    "duration": 13,
    "start_time": "2023-02-09T08:04:59.059Z"
   },
   {
    "duration": 18,
    "start_time": "2023-02-09T08:08:02.480Z"
   },
   {
    "duration": 11,
    "start_time": "2023-02-09T08:08:03.158Z"
   },
   {
    "duration": 13,
    "start_time": "2023-02-09T08:08:32.893Z"
   },
   {
    "duration": 12,
    "start_time": "2023-02-09T08:08:34.325Z"
   },
   {
    "duration": 51,
    "start_time": "2023-02-09T08:08:59.871Z"
   },
   {
    "duration": 52,
    "start_time": "2023-02-09T08:09:06.573Z"
   },
   {
    "duration": 20,
    "start_time": "2023-02-09T08:09:16.887Z"
   },
   {
    "duration": 14,
    "start_time": "2023-02-09T08:11:04.401Z"
   },
   {
    "duration": 15,
    "start_time": "2023-02-09T08:11:07.227Z"
   },
   {
    "duration": 15,
    "start_time": "2023-02-09T08:11:07.552Z"
   },
   {
    "duration": 20,
    "start_time": "2023-02-09T08:11:56.469Z"
   },
   {
    "duration": 15,
    "start_time": "2023-02-09T08:11:57.504Z"
   },
   {
    "duration": 17,
    "start_time": "2023-02-09T08:12:28.757Z"
   },
   {
    "duration": 16,
    "start_time": "2023-02-09T08:12:45.615Z"
   },
   {
    "duration": 4,
    "start_time": "2023-02-09T08:16:35.412Z"
   },
   {
    "duration": 298,
    "start_time": "2023-02-09T08:16:35.869Z"
   },
   {
    "duration": 14,
    "start_time": "2023-02-09T08:16:36.859Z"
   },
   {
    "duration": 15,
    "start_time": "2023-02-09T08:16:37.488Z"
   },
   {
    "duration": 20,
    "start_time": "2023-02-09T08:16:39.019Z"
   },
   {
    "duration": 14,
    "start_time": "2023-02-09T08:16:39.518Z"
   },
   {
    "duration": 15,
    "start_time": "2023-02-09T08:16:40.824Z"
   },
   {
    "duration": 12,
    "start_time": "2023-02-09T08:16:41.270Z"
   },
   {
    "duration": 17,
    "start_time": "2023-02-09T08:16:42.679Z"
   },
   {
    "duration": 13,
    "start_time": "2023-02-09T08:16:43.176Z"
   },
   {
    "duration": 17,
    "start_time": "2023-02-09T08:17:13.567Z"
   },
   {
    "duration": 14,
    "start_time": "2023-02-09T08:17:25.030Z"
   },
   {
    "duration": 19,
    "start_time": "2023-02-09T08:17:41.469Z"
   },
   {
    "duration": 21,
    "start_time": "2023-02-09T08:17:47.666Z"
   },
   {
    "duration": 21,
    "start_time": "2023-02-09T08:17:50.469Z"
   },
   {
    "duration": 18,
    "start_time": "2023-02-09T08:17:51.366Z"
   },
   {
    "duration": 17,
    "start_time": "2023-02-09T08:18:16.429Z"
   },
   {
    "duration": 19,
    "start_time": "2023-02-09T08:19:28.669Z"
   },
   {
    "duration": 14,
    "start_time": "2023-02-09T08:19:31.470Z"
   },
   {
    "duration": 15,
    "start_time": "2023-02-09T08:19:32.285Z"
   },
   {
    "duration": 21,
    "start_time": "2023-02-09T08:19:33.471Z"
   },
   {
    "duration": 15,
    "start_time": "2023-02-09T08:19:33.723Z"
   },
   {
    "duration": 19,
    "start_time": "2023-02-09T08:19:34.784Z"
   },
   {
    "duration": 18,
    "start_time": "2023-02-09T08:19:35.287Z"
   },
   {
    "duration": 21,
    "start_time": "2023-02-09T08:19:35.980Z"
   },
   {
    "duration": 15,
    "start_time": "2023-02-09T08:19:36.271Z"
   },
   {
    "duration": 20,
    "start_time": "2023-02-09T08:19:52.177Z"
   },
   {
    "duration": 15,
    "start_time": "2023-02-09T08:19:54.593Z"
   },
   {
    "duration": 17,
    "start_time": "2023-02-09T08:19:54.807Z"
   },
   {
    "duration": 23,
    "start_time": "2023-02-09T08:27:50.100Z"
   },
   {
    "duration": 6,
    "start_time": "2023-02-09T08:28:03.987Z"
   },
   {
    "duration": 16,
    "start_time": "2023-02-09T08:36:39.398Z"
   },
   {
    "duration": 6,
    "start_time": "2023-02-09T08:36:39.823Z"
   },
   {
    "duration": 16,
    "start_time": "2023-02-09T08:36:40.678Z"
   },
   {
    "duration": 15,
    "start_time": "2023-02-09T08:37:23.290Z"
   },
   {
    "duration": 5,
    "start_time": "2023-02-09T08:37:24.133Z"
   },
   {
    "duration": 14,
    "start_time": "2023-02-09T08:37:25.258Z"
   },
   {
    "duration": 15,
    "start_time": "2023-02-09T08:37:44.732Z"
   },
   {
    "duration": 5,
    "start_time": "2023-02-09T08:37:45.177Z"
   },
   {
    "duration": 13,
    "start_time": "2023-02-09T08:37:45.762Z"
   },
   {
    "duration": 5,
    "start_time": "2023-02-09T08:38:24.731Z"
   },
   {
    "duration": 21,
    "start_time": "2023-02-09T08:40:11.437Z"
   },
   {
    "duration": 6,
    "start_time": "2023-02-09T08:40:12.632Z"
   },
   {
    "duration": 24,
    "start_time": "2023-02-09T08:40:21.062Z"
   },
   {
    "duration": 24,
    "start_time": "2023-02-09T08:40:29.401Z"
   },
   {
    "duration": 27,
    "start_time": "2023-02-09T08:40:37.602Z"
   },
   {
    "duration": 17,
    "start_time": "2023-02-09T08:40:52.878Z"
   },
   {
    "duration": 15,
    "start_time": "2023-02-09T08:43:51.266Z"
   },
   {
    "duration": 16,
    "start_time": "2023-02-09T08:43:51.674Z"
   },
   {
    "duration": 15,
    "start_time": "2023-02-09T08:43:52.805Z"
   },
   {
    "duration": 15,
    "start_time": "2023-02-09T08:43:53.129Z"
   },
   {
    "duration": 9,
    "start_time": "2023-02-09T10:16:52.874Z"
   },
   {
    "duration": 8,
    "start_time": "2023-02-09T10:18:13.321Z"
   },
   {
    "duration": 9,
    "start_time": "2023-02-09T10:18:16.628Z"
   },
   {
    "duration": 10,
    "start_time": "2023-02-09T10:19:07.974Z"
   },
   {
    "duration": 9,
    "start_time": "2023-02-09T10:19:39.322Z"
   },
   {
    "duration": 7,
    "start_time": "2023-02-09T10:19:48.006Z"
   },
   {
    "duration": 8,
    "start_time": "2023-02-09T10:21:24.672Z"
   },
   {
    "duration": 7,
    "start_time": "2023-02-09T10:21:40.760Z"
   },
   {
    "duration": 9,
    "start_time": "2023-02-09T10:37:38.464Z"
   },
   {
    "duration": 6,
    "start_time": "2023-02-09T10:37:52.224Z"
   },
   {
    "duration": 10,
    "start_time": "2023-02-09T10:38:16.209Z"
   },
   {
    "duration": 7,
    "start_time": "2023-02-09T10:39:27.408Z"
   },
   {
    "duration": 11,
    "start_time": "2023-02-09T10:40:15.988Z"
   },
   {
    "duration": 9,
    "start_time": "2023-02-09T10:40:34.958Z"
   },
   {
    "duration": 11,
    "start_time": "2023-02-09T10:40:42.808Z"
   },
   {
    "duration": 7,
    "start_time": "2023-02-09T10:41:19.767Z"
   },
   {
    "duration": 4,
    "start_time": "2023-02-09T10:41:29.691Z"
   },
   {
    "duration": 5,
    "start_time": "2023-02-09T10:41:44.722Z"
   },
   {
    "duration": 4,
    "start_time": "2023-02-09T10:41:51.394Z"
   },
   {
    "duration": 142,
    "start_time": "2023-02-09T10:43:27.477Z"
   },
   {
    "duration": 525,
    "start_time": "2023-02-09T10:43:31.605Z"
   },
   {
    "duration": 587,
    "start_time": "2023-02-09T10:43:48.033Z"
   },
   {
    "duration": 17,
    "start_time": "2023-02-09T10:44:47.771Z"
   },
   {
    "duration": 11,
    "start_time": "2023-02-09T10:45:38.975Z"
   },
   {
    "duration": 10,
    "start_time": "2023-02-09T10:46:03.621Z"
   },
   {
    "duration": 7,
    "start_time": "2023-02-09T10:46:12.788Z"
   },
   {
    "duration": 4,
    "start_time": "2023-02-09T10:46:20.360Z"
   },
   {
    "duration": 21,
    "start_time": "2023-02-09T10:46:33.526Z"
   },
   {
    "duration": 6,
    "start_time": "2023-02-09T10:46:58.163Z"
   },
   {
    "duration": 5,
    "start_time": "2023-02-09T10:47:03.958Z"
   },
   {
    "duration": 33,
    "start_time": "2023-02-09T10:47:14.672Z"
   },
   {
    "duration": 24,
    "start_time": "2023-02-09T10:47:59.764Z"
   },
   {
    "duration": 40,
    "start_time": "2023-02-09T10:48:04.664Z"
   },
   {
    "duration": 24,
    "start_time": "2023-02-09T10:48:21.608Z"
   },
   {
    "duration": 23,
    "start_time": "2023-02-09T10:48:57.333Z"
   },
   {
    "duration": 17,
    "start_time": "2023-02-09T10:49:31.858Z"
   },
   {
    "duration": 32,
    "start_time": "2023-02-09T10:50:18.179Z"
   },
   {
    "duration": 62,
    "start_time": "2023-02-09T10:55:16.574Z"
   },
   {
    "duration": 806,
    "start_time": "2023-02-09T10:57:27.696Z"
   },
   {
    "duration": 902,
    "start_time": "2023-02-09T10:58:42.626Z"
   },
   {
    "duration": 780,
    "start_time": "2023-02-09T10:59:15.267Z"
   },
   {
    "duration": 831,
    "start_time": "2023-02-09T10:59:30.690Z"
   },
   {
    "duration": 953,
    "start_time": "2023-02-09T11:00:00.754Z"
   },
   {
    "duration": 992,
    "start_time": "2023-02-09T11:00:54.473Z"
   },
   {
    "duration": 7,
    "start_time": "2023-02-09T11:01:31.768Z"
   },
   {
    "duration": 21,
    "start_time": "2023-02-09T11:01:44.526Z"
   },
   {
    "duration": 823,
    "start_time": "2023-02-09T11:01:45.044Z"
   },
   {
    "duration": 40,
    "start_time": "2023-02-09T11:03:28.005Z"
   },
   {
    "duration": 8,
    "start_time": "2023-02-09T11:03:37.847Z"
   },
   {
    "duration": 19,
    "start_time": "2023-02-09T11:03:42.264Z"
   },
   {
    "duration": 692,
    "start_time": "2023-02-09T23:15:26.597Z"
   },
   {
    "duration": 25,
    "start_time": "2023-02-09T23:15:27.291Z"
   },
   {
    "duration": 23,
    "start_time": "2023-02-09T23:15:27.318Z"
   },
   {
    "duration": 14,
    "start_time": "2023-02-09T23:15:27.343Z"
   },
   {
    "duration": 35,
    "start_time": "2023-02-09T23:15:27.359Z"
   },
   {
    "duration": 3,
    "start_time": "2023-02-09T23:15:27.396Z"
   },
   {
    "duration": 13,
    "start_time": "2023-02-09T23:15:27.401Z"
   },
   {
    "duration": 4,
    "start_time": "2023-02-09T23:15:27.416Z"
   },
   {
    "duration": 27,
    "start_time": "2023-02-09T23:15:27.421Z"
   },
   {
    "duration": 4,
    "start_time": "2023-02-09T23:15:27.451Z"
   },
   {
    "duration": 39,
    "start_time": "2023-02-09T23:15:27.457Z"
   },
   {
    "duration": 9,
    "start_time": "2023-02-09T23:15:27.498Z"
   },
   {
    "duration": 4,
    "start_time": "2023-02-09T23:15:27.508Z"
   },
   {
    "duration": 30,
    "start_time": "2023-02-09T23:15:27.514Z"
   },
   {
    "duration": 19,
    "start_time": "2023-02-09T23:15:27.545Z"
   },
   {
    "duration": 16,
    "start_time": "2023-02-09T23:15:27.565Z"
   },
   {
    "duration": 3,
    "start_time": "2023-02-09T23:15:27.582Z"
   },
   {
    "duration": 18,
    "start_time": "2023-02-09T23:15:27.587Z"
   },
   {
    "duration": 12,
    "start_time": "2023-02-09T23:15:27.607Z"
   },
   {
    "duration": 4,
    "start_time": "2023-02-09T23:15:27.621Z"
   },
   {
    "duration": 13,
    "start_time": "2023-02-09T23:15:27.645Z"
   },
   {
    "duration": 152,
    "start_time": "2023-02-09T23:15:27.660Z"
   },
   {
    "duration": 3,
    "start_time": "2023-02-09T23:15:27.814Z"
   },
   {
    "duration": 192,
    "start_time": "2023-02-09T23:15:27.818Z"
   },
   {
    "duration": 15,
    "start_time": "2023-02-09T23:15:28.012Z"
   },
   {
    "duration": 25,
    "start_time": "2023-02-09T23:15:28.029Z"
   },
   {
    "duration": 19,
    "start_time": "2023-02-09T23:15:28.055Z"
   },
   {
    "duration": 4,
    "start_time": "2023-02-09T23:15:28.077Z"
   },
   {
    "duration": 18,
    "start_time": "2023-02-09T23:15:28.083Z"
   },
   {
    "duration": 26,
    "start_time": "2023-02-09T23:15:28.103Z"
   },
   {
    "duration": 18,
    "start_time": "2023-02-09T23:15:28.131Z"
   },
   {
    "duration": 17,
    "start_time": "2023-02-09T23:15:28.151Z"
   },
   {
    "duration": 13,
    "start_time": "2023-02-09T23:15:28.170Z"
   },
   {
    "duration": 74,
    "start_time": "2023-02-09T23:15:28.184Z"
   },
   {
    "duration": 0,
    "start_time": "2023-02-09T23:15:28.259Z"
   },
   {
    "duration": 48,
    "start_time": "2023-02-10T06:51:24.036Z"
   },
   {
    "duration": 8,
    "start_time": "2023-02-10T06:51:37.320Z"
   },
   {
    "duration": 7,
    "start_time": "2023-02-10T06:51:37.840Z"
   },
   {
    "duration": 595,
    "start_time": "2023-02-10T06:51:46.520Z"
   },
   {
    "duration": 4,
    "start_time": "2023-02-10T06:51:47.117Z"
   },
   {
    "duration": 214,
    "start_time": "2023-02-10T06:51:47.397Z"
   },
   {
    "duration": 16,
    "start_time": "2023-02-10T06:51:47.807Z"
   },
   {
    "duration": 11,
    "start_time": "2023-02-10T06:51:48.276Z"
   },
   {
    "duration": 15,
    "start_time": "2023-02-10T06:51:50.572Z"
   },
   {
    "duration": 5,
    "start_time": "2023-02-10T06:51:51.015Z"
   },
   {
    "duration": 12,
    "start_time": "2023-02-10T06:51:51.465Z"
   },
   {
    "duration": 13,
    "start_time": "2023-02-10T06:51:53.304Z"
   },
   {
    "duration": 16,
    "start_time": "2023-02-10T06:51:53.764Z"
   },
   {
    "duration": 15,
    "start_time": "2023-02-10T06:51:55.588Z"
   },
   {
    "duration": 13,
    "start_time": "2023-02-10T06:51:56.128Z"
   },
   {
    "duration": 29,
    "start_time": "2023-02-10T06:51:58.680Z"
   },
   {
    "duration": 19,
    "start_time": "2023-02-10T06:52:00.727Z"
   },
   {
    "duration": 8,
    "start_time": "2023-02-10T07:19:48.146Z"
   },
   {
    "duration": 9,
    "start_time": "2023-02-10T07:20:02.539Z"
   },
   {
    "duration": 7,
    "start_time": "2023-02-10T07:22:03.373Z"
   },
   {
    "duration": 848,
    "start_time": "2023-02-10T07:22:43.522Z"
   },
   {
    "duration": 886,
    "start_time": "2023-02-10T07:23:42.352Z"
   },
   {
    "duration": 37,
    "start_time": "2023-02-10T07:24:31.561Z"
   },
   {
    "duration": 18,
    "start_time": "2023-02-10T07:24:44.318Z"
   },
   {
    "duration": 902,
    "start_time": "2023-02-10T07:24:50.985Z"
   },
   {
    "duration": 19,
    "start_time": "2023-02-10T07:24:59.474Z"
   },
   {
    "duration": 21,
    "start_time": "2023-02-10T07:25:04.246Z"
   },
   {
    "duration": 18,
    "start_time": "2023-02-10T07:25:18.274Z"
   },
   {
    "duration": 16,
    "start_time": "2023-02-10T07:25:59.602Z"
   },
   {
    "duration": 26,
    "start_time": "2023-02-10T07:26:17.926Z"
   },
   {
    "duration": 14,
    "start_time": "2023-02-10T07:27:15.896Z"
   },
   {
    "duration": 17,
    "start_time": "2023-02-10T07:27:35.865Z"
   },
   {
    "duration": 18,
    "start_time": "2023-02-10T07:27:52.989Z"
   },
   {
    "duration": 17,
    "start_time": "2023-02-10T07:28:15.223Z"
   },
   {
    "duration": 18,
    "start_time": "2023-02-10T07:28:20.158Z"
   },
   {
    "duration": 18,
    "start_time": "2023-02-10T07:28:41.707Z"
   },
   {
    "duration": 7,
    "start_time": "2023-02-10T07:35:32.126Z"
   },
   {
    "duration": 5,
    "start_time": "2023-02-10T07:35:54.324Z"
   },
   {
    "duration": 20,
    "start_time": "2023-02-10T07:37:36.372Z"
   },
   {
    "duration": 19,
    "start_time": "2023-02-10T07:37:47.966Z"
   },
   {
    "duration": 909,
    "start_time": "2023-02-10T07:41:01.553Z"
   },
   {
    "duration": 7,
    "start_time": "2023-02-10T07:41:23.020Z"
   },
   {
    "duration": 9,
    "start_time": "2023-02-10T07:41:34.544Z"
   },
   {
    "duration": 12,
    "start_time": "2023-02-10T07:42:07.109Z"
   },
   {
    "duration": 7,
    "start_time": "2023-02-10T07:42:19.198Z"
   },
   {
    "duration": 22,
    "start_time": "2023-02-10T07:42:34.805Z"
   },
   {
    "duration": 8,
    "start_time": "2023-02-10T07:43:01.382Z"
   },
   {
    "duration": 22,
    "start_time": "2023-02-10T07:43:07.770Z"
   },
   {
    "duration": 11,
    "start_time": "2023-02-10T07:43:29.098Z"
   },
   {
    "duration": 10,
    "start_time": "2023-02-10T07:44:06.557Z"
   },
   {
    "duration": 12,
    "start_time": "2023-02-10T07:46:04.111Z"
   },
   {
    "duration": 12,
    "start_time": "2023-02-10T07:46:17.867Z"
   },
   {
    "duration": 10,
    "start_time": "2023-02-10T07:47:17.489Z"
   },
   {
    "duration": 12,
    "start_time": "2023-02-10T07:47:47.475Z"
   },
   {
    "duration": 14,
    "start_time": "2023-02-10T07:47:52.649Z"
   },
   {
    "duration": 16,
    "start_time": "2023-02-10T07:48:04.038Z"
   },
   {
    "duration": 14,
    "start_time": "2023-02-10T08:08:46.152Z"
   },
   {
    "duration": 10,
    "start_time": "2023-02-10T08:09:30.622Z"
   },
   {
    "duration": 11,
    "start_time": "2023-02-10T08:09:40.050Z"
   },
   {
    "duration": 12,
    "start_time": "2023-02-10T08:10:26.075Z"
   },
   {
    "duration": 9,
    "start_time": "2023-02-10T08:10:33.179Z"
   },
   {
    "duration": 12,
    "start_time": "2023-02-10T08:10:42.919Z"
   },
   {
    "duration": 10,
    "start_time": "2023-02-10T08:15:38.814Z"
   },
   {
    "duration": 12,
    "start_time": "2023-02-10T08:15:54.711Z"
   },
   {
    "duration": 14,
    "start_time": "2023-02-10T08:20:12.776Z"
   },
   {
    "duration": 13,
    "start_time": "2023-02-10T08:20:17.332Z"
   },
   {
    "duration": 10,
    "start_time": "2023-02-10T08:23:01.685Z"
   },
   {
    "duration": 7,
    "start_time": "2023-02-10T08:23:20.365Z"
   },
   {
    "duration": 80,
    "start_time": "2023-02-10T08:23:39.146Z"
   },
   {
    "duration": 13,
    "start_time": "2023-02-10T08:23:48.347Z"
   },
   {
    "duration": 9,
    "start_time": "2023-02-10T08:24:53.838Z"
   },
   {
    "duration": 1146,
    "start_time": "2023-02-10T08:25:31.145Z"
   },
   {
    "duration": 1137,
    "start_time": "2023-02-10T08:27:06.957Z"
   },
   {
    "duration": 10,
    "start_time": "2023-02-10T08:27:14.764Z"
   },
   {
    "duration": 14,
    "start_time": "2023-02-10T08:27:22.801Z"
   },
   {
    "duration": 11,
    "start_time": "2023-02-10T08:27:29.552Z"
   },
   {
    "duration": 10,
    "start_time": "2023-02-10T08:27:37.780Z"
   },
   {
    "duration": 8,
    "start_time": "2023-02-10T08:28:24.881Z"
   },
   {
    "duration": 5,
    "start_time": "2023-02-10T08:29:49.857Z"
   },
   {
    "duration": 5,
    "start_time": "2023-02-10T08:29:58.967Z"
   },
   {
    "duration": 1181,
    "start_time": "2023-02-10T08:30:20.569Z"
   },
   {
    "duration": 6,
    "start_time": "2023-02-10T08:30:35.624Z"
   },
   {
    "duration": 1148,
    "start_time": "2023-02-10T08:31:45.218Z"
   },
   {
    "duration": 22,
    "start_time": "2023-02-10T08:31:53.118Z"
   },
   {
    "duration": 10,
    "start_time": "2023-02-10T08:32:47.340Z"
   },
   {
    "duration": 23,
    "start_time": "2023-02-10T08:33:32.240Z"
   },
   {
    "duration": 11,
    "start_time": "2023-02-10T08:33:49.969Z"
   },
   {
    "duration": 10,
    "start_time": "2023-02-10T08:34:11.853Z"
   },
   {
    "duration": 26,
    "start_time": "2023-02-10T08:34:18.257Z"
   },
   {
    "duration": 198,
    "start_time": "2023-02-10T08:39:47.861Z"
   },
   {
    "duration": 3,
    "start_time": "2023-02-10T08:39:48.289Z"
   },
   {
    "duration": 205,
    "start_time": "2023-02-10T08:39:48.774Z"
   },
   {
    "duration": 16,
    "start_time": "2023-02-10T08:39:49.220Z"
   },
   {
    "duration": 13,
    "start_time": "2023-02-10T08:39:49.669Z"
   },
   {
    "duration": 15,
    "start_time": "2023-02-10T08:39:51.512Z"
   },
   {
    "duration": 5,
    "start_time": "2023-02-10T08:39:51.853Z"
   },
   {
    "duration": 14,
    "start_time": "2023-02-10T08:39:52.202Z"
   },
   {
    "duration": 14,
    "start_time": "2023-02-10T08:39:53.784Z"
   },
   {
    "duration": 15,
    "start_time": "2023-02-10T08:39:54.220Z"
   },
   {
    "duration": 18,
    "start_time": "2023-02-10T08:39:57.184Z"
   },
   {
    "duration": 14,
    "start_time": "2023-02-10T08:39:57.800Z"
   },
   {
    "duration": 11,
    "start_time": "2023-02-10T08:39:58.308Z"
   },
   {
    "duration": 18,
    "start_time": "2023-02-10T08:39:59.148Z"
   },
   {
    "duration": 14,
    "start_time": "2023-02-10T08:39:59.883Z"
   },
   {
    "duration": 12,
    "start_time": "2023-02-10T08:40:03.388Z"
   },
   {
    "duration": 15,
    "start_time": "2023-02-10T08:40:45.670Z"
   },
   {
    "duration": 14,
    "start_time": "2023-02-10T08:40:46.030Z"
   },
   {
    "duration": 16,
    "start_time": "2023-02-10T08:40:47.878Z"
   },
   {
    "duration": 15,
    "start_time": "2023-02-10T08:40:48.393Z"
   },
   {
    "duration": 12,
    "start_time": "2023-02-10T08:40:48.834Z"
   },
   {
    "duration": 12,
    "start_time": "2023-02-10T08:40:49.301Z"
   },
   {
    "duration": 12,
    "start_time": "2023-02-10T08:40:49.786Z"
   },
   {
    "duration": 26,
    "start_time": "2023-02-10T10:28:13.349Z"
   },
   {
    "duration": 13,
    "start_time": "2023-02-10T10:28:25.152Z"
   },
   {
    "duration": 22,
    "start_time": "2023-02-10T10:28:25.825Z"
   },
   {
    "duration": 20,
    "start_time": "2023-02-10T10:28:47.322Z"
   },
   {
    "duration": 911,
    "start_time": "2023-02-10T10:29:03.702Z"
   },
   {
    "duration": 887,
    "start_time": "2023-02-10T10:29:15.479Z"
   },
   {
    "duration": 20,
    "start_time": "2023-02-10T10:29:32.123Z"
   },
   {
    "duration": 5,
    "start_time": "2023-02-10T10:31:08.465Z"
   },
   {
    "duration": 21,
    "start_time": "2023-02-10T10:31:29.741Z"
   },
   {
    "duration": 83,
    "start_time": "2023-02-10T10:34:15.377Z"
   },
   {
    "duration": 17,
    "start_time": "2023-02-10T10:34:26.810Z"
   },
   {
    "duration": 16,
    "start_time": "2023-02-10T10:34:28.770Z"
   },
   {
    "duration": 27,
    "start_time": "2023-02-10T10:34:36.647Z"
   },
   {
    "duration": 23,
    "start_time": "2023-02-10T10:34:59.256Z"
   },
   {
    "duration": 440,
    "start_time": "2023-02-10T10:40:11.155Z"
   },
   {
    "duration": 22,
    "start_time": "2023-02-10T10:40:18.026Z"
   },
   {
    "duration": 23,
    "start_time": "2023-02-10T10:41:21.253Z"
   },
   {
    "duration": 17,
    "start_time": "2023-02-10T10:42:23.958Z"
   },
   {
    "duration": 17,
    "start_time": "2023-02-10T10:42:27.017Z"
   },
   {
    "duration": 25,
    "start_time": "2023-02-10T10:42:36.061Z"
   },
   {
    "duration": 17,
    "start_time": "2023-02-10T10:42:42.702Z"
   },
   {
    "duration": 24,
    "start_time": "2023-02-10T10:43:23.957Z"
   },
   {
    "duration": 20,
    "start_time": "2023-02-10T10:43:51.223Z"
   },
   {
    "duration": 22,
    "start_time": "2023-02-10T10:44:04.379Z"
   },
   {
    "duration": 82,
    "start_time": "2023-02-10T10:50:09.083Z"
   },
   {
    "duration": 79,
    "start_time": "2023-02-10T10:50:16.867Z"
   },
   {
    "duration": 137,
    "start_time": "2023-02-10T11:19:50.958Z"
   },
   {
    "duration": 76,
    "start_time": "2023-02-10T11:20:42.561Z"
   },
   {
    "duration": 16,
    "start_time": "2023-02-10T12:04:17.105Z"
   },
   {
    "duration": 16,
    "start_time": "2023-02-10T12:04:20.908Z"
   },
   {
    "duration": 16,
    "start_time": "2023-02-10T12:04:31.104Z"
   },
   {
    "duration": 16,
    "start_time": "2023-02-10T12:04:44.964Z"
   },
   {
    "duration": 16,
    "start_time": "2023-02-10T12:04:49.680Z"
   },
   {
    "duration": 4,
    "start_time": "2023-02-10T12:04:50.059Z"
   },
   {
    "duration": 14,
    "start_time": "2023-02-10T12:04:50.607Z"
   },
   {
    "duration": 11,
    "start_time": "2023-02-10T12:05:07.100Z"
   },
   {
    "duration": 13,
    "start_time": "2023-02-10T12:05:16.574Z"
   },
   {
    "duration": 13,
    "start_time": "2023-02-10T12:05:47.749Z"
   },
   {
    "duration": 12,
    "start_time": "2023-02-10T12:05:57.417Z"
   },
   {
    "duration": 6,
    "start_time": "2023-02-10T12:06:01.945Z"
   },
   {
    "duration": 13,
    "start_time": "2023-02-10T12:06:07.929Z"
   },
   {
    "duration": 96,
    "start_time": "2023-02-10T12:06:23.406Z"
   },
   {
    "duration": 15,
    "start_time": "2023-02-10T12:06:29.957Z"
   },
   {
    "duration": 15,
    "start_time": "2023-02-10T12:06:47.684Z"
   },
   {
    "duration": 16,
    "start_time": "2023-02-10T12:20:38.478Z"
   },
   {
    "duration": 17,
    "start_time": "2023-02-10T12:20:38.807Z"
   },
   {
    "duration": 88,
    "start_time": "2023-02-11T10:24:49.451Z"
   }
  ],
  "colab": {
   "provenance": []
  },
  "kernelspec": {
   "display_name": "Python 3 (ipykernel)",
   "language": "python",
   "name": "python3"
  },
  "language_info": {
   "codemirror_mode": {
    "name": "ipython",
    "version": 3
   },
   "file_extension": ".py",
   "mimetype": "text/x-python",
   "name": "python",
   "nbconvert_exporter": "python",
   "pygments_lexer": "ipython3",
   "version": "3.9.13"
  },
  "toc": {
   "base_numbering": 1,
   "nav_menu": {},
   "number_sections": true,
   "sideBar": true,
   "skip_h1_title": true,
   "title_cell": "Table of Contents",
   "title_sidebar": "Contents",
   "toc_cell": false,
   "toc_position": {},
   "toc_section_display": true,
   "toc_window_display": false
  }
 },
 "nbformat": 4,
 "nbformat_minor": 5
}
